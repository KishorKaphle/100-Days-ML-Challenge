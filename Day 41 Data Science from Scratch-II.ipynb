{
 "cells": [
  {
   "attachments": {
    "image.png": {
     "image/png": "[encoded data removed]"
    }
   },
   "cell_type": "markdown",
   "metadata": {},
   "source": [
    "## Visualizing Data\n",
    "\n",
    "Uses of data visualizations:\n",
    "1. To explore data\n",
    "2. To communicate data\n",
    "\n",
    "\n",
    "## Linear Algebra\n",
    "It is the fundamental of data science and machine learning. Operations are basically be done in vectorically.\n",
    "\n",
    "\n",
    "## Matrices\n",
    "\n",
    "Indexing starts from zero.\n",
    "\n",
    "\n",
    "## Statistics\n",
    "\n",
    "Statistics refers to the mathematics and techniques with which we understand data\n",
    "\n",
    "\n",
    "## Simpson's Paradox\n",
    "\n",
    "Correlations can be misleading when confounding variables are ignored. \n",
    "\n",
    "\n",
    "## Correlation and Causation\n",
    "\n",
    "x and y maybe simply correlated:they doesn't necessarily mean x causes y or vice-versa. \n",
    "\n",
    "\n",
    "## Probability\n",
    "\n",
    "Gives the posibilities/likelihood of happening something.\n",
    "\n",
    "### Dependence and Independence\n",
    "\n",
    "If occurance of x affects or let you know the information about the occurance or not occurance of y then x and y are dependence and reversely they are independence. \n",
    "\n",
    "### Conditional Probability\n",
    "\n",
    "If E and F are independent, then by defination we have:\n",
    "\n",
    "P(E, F) = P(E)P(Fc\n",
    "\n",
    "But, if they are not necessarily independent then we define the probability of E 'conditional on F' as:\n",
    "\n",
    "P(E/F) = P(E, F)/P(F)\n",
    "\n",
    "Bayes's Theorem\n",
    "\n",
    "\n",
    "### Random Variables\n",
    "\n",
    "Variable assigned to random events but more figuratively.\n",
    "\n",
    "\n",
    "### The Normal Distribution\n",
    "\n",
    "mean vs standard deviation curve is a bell-shaped. It has distribution function:\n",
    "\n",
    "![image.png](attachment:image.png)\n",
    "\n",
    "\n",
    "AND if mean = 0 and SD=1, it is called as Standard Normal Distribution\n",
    "\n",
    "\n",
    "## Hypothesis and Inference\n",
    "\n",
    "Null Hypothesis: Ho, default positioning\n",
    "Alternative Hypothesis: H1, kind of opposite of Ho\n",
    "\n",
    "\n"
   ]
  },
  {
   "cell_type": "code",
   "execution_count": null,
   "metadata": {},
   "outputs": [],
   "source": []
  }
 ],
 "metadata": {
  "kernelspec": {
   "display_name": "Python 3",
   "language": "python",
   "name": "python3"
  },
  "language_info": {
   "codemirror_mode": {
    "name": "ipython",
    "version": 3
   },
   "file_extension": ".py",
   "mimetype": "text/x-python",
   "name": "python",
   "nbconvert_exporter": "python",
   "pygments_lexer": "ipython3",
   "version": "3.8.5"
  }
 },
 "nbformat": 4,
 "nbformat_minor": 4
}
