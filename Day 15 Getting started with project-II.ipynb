{
 "cells": [
  {
   "cell_type": "code",
   "execution_count": 10,
   "metadata": {},
   "outputs": [],
   "source": [
    "# imporiting the necessary libraries\n",
    "\n",
    "import pandas as pd\n",
    "import matplotlib.pyplot as plt\n",
    "import numpy as np"
   ]
  },
  {
   "cell_type": "code",
   "execution_count": 11,
   "metadata": {},
   "outputs": [
    {
     "name": "stdout",
     "output_type": "stream",
     "text": [
      "Enter the csv file full addressdiabt.csv\n"
     ]
    }
   ],
   "source": [
    "# getting address of the file\n",
    "\n",
    "path = input ('Enter the csv file full address')\n",
    "\n"
   ]
  },
  {
   "cell_type": "code",
   "execution_count": 12,
   "metadata": {},
   "outputs": [
    {
     "name": "stdout",
     "output_type": "stream",
     "text": [
      "     Pregnancies  Glucose  BloodPressure  SkinThickness  Insulin   BMI  \\\n",
      "0              6      148             72             35        0  33.6   \n",
      "1              1       85             66             29        0  26.6   \n",
      "2              8      183             64              0        0  23.3   \n",
      "3              1       89             66             23       94  28.1   \n",
      "4              0      137             40             35      168  43.1   \n",
      "..           ...      ...            ...            ...      ...   ...   \n",
      "763           10      101             76             48      180  32.9   \n",
      "764            2      122             70             27        0  36.8   \n",
      "765            5      121             72             23      112  26.2   \n",
      "766            1      126             60              0        0  30.1   \n",
      "767            1       93             70             31        0  30.4   \n",
      "\n",
      "     DiabetesPedigreeFunction  Age  Outcome  \n",
      "0                       0.627   50        1  \n",
      "1                       0.351   31        0  \n",
      "2                       0.672   32        1  \n",
      "3                       0.167   21        0  \n",
      "4                       2.288   33        1  \n",
      "..                        ...  ...      ...  \n",
      "763                     0.171   63        0  \n",
      "764                     0.340   27        0  \n",
      "765                     0.245   30        0  \n",
      "766                     0.349   47        1  \n",
      "767                     0.315   23        0  \n",
      "\n",
      "[768 rows x 9 columns]\n"
     ]
    }
   ],
   "source": [
    "df = pd.read_csv(path)\n",
    "\n",
    "print (df)"
   ]
  },
  {
   "cell_type": "code",
   "execution_count": 13,
   "metadata": {},
   "outputs": [
    {
     "name": "stdout",
     "output_type": "stream",
     "text": [
      "Enter the task you want to do. For example, \"classification\" or \"linear reggression\" or \"logistic regression\"logistic regression\n"
     ]
    }
   ],
   "source": [
    "task = input ('Enter the task you want to do. For example, \"classification\" or \"linear reggression\" or \"logistic regression\"')"
   ]
  },
  {
   "cell_type": "code",
   "execution_count": null,
   "metadata": {},
   "outputs": [],
   "source": []
  },
  {
   "cell_type": "code",
   "execution_count": 14,
   "metadata": {},
   "outputs": [
    {
     "name": "stderr",
     "output_type": "stream",
     "text": [
      "/home/kishor/PycharmProjects/my_hello_world/venv/lib/python3.7/site-packages/sklearn/linear_model/_logistic.py:764: ConvergenceWarning: lbfgs failed to converge (status=1):\n",
      "STOP: TOTAL NO. of ITERATIONS REACHED LIMIT.\n",
      "\n",
      "Increase the number of iterations (max_iter) or scale the data as shown in:\n",
      "    https://scikit-learn.org/stable/modules/preprocessing.html\n",
      "Please also refer to the documentation for alternative solver options:\n",
      "    https://scikit-learn.org/stable/modules/linear_model.html#logistic-regression\n",
      "  extra_warning_msg=_LOGISTIC_SOLVER_CONVERGENCE_MSG)\n"
     ]
    },
    {
     "name": "stdout",
     "output_type": "stream",
     "text": [
      "\n",
      " Confusion matrix is : \n",
      " [[98  9]\n",
      " [18 29]]\n"
     ]
    },
    {
     "data": {
      "image/png": "[encoded data removed]",
      "text/plain": [
       "<Figure size 432x288 with 1 Axes>"
      ]
     },
     "metadata": {
      "needs_background": "light"
     },
     "output_type": "display_data"
    },
    {
     "name": "stdout",
     "output_type": "stream",
     "text": [
      "Accuracy:  0.8246753246753247\n",
      "Precision:  0.7631578947368421\n",
      "Recall:  0.6170212765957447\n"
     ]
    }
   ],
   "source": [
    "# chossing the model\n",
    "if task =='linear regression':\n",
    "    from sklearn.linear_model import LinearRegression\n",
    "\n",
    "    X = df.iloc[:, :-1]\n",
    "    y = df.iloc[:, -1] # assuming only one outcome value\n",
    "\n",
    "    #splitting training and testing data\n",
    "    from sklearn.model_selection import train_test_split\n",
    "\n",
    "    X_train, X_test, y_train, y_test = train_test_split (X, y, test_size =0.20, random_state = 0);\n",
    "\n",
    "\n",
    "    #model development and prediction\n",
    "\n",
    "    from sklearn.linear_model import LinearRegression\n",
    "    lr = LinearRegression()\n",
    "\n",
    "\n",
    "    #fitting th model with data\n",
    "\n",
    "    lr.fit(X_train, y_train);\n",
    "\n",
    "    #prediction of value\n",
    "    y_pred = lr.predict(X_test);\n",
    "\n",
    "    #model evaluation using confusion matrix\n",
    "\n",
    "    from sklearn.metrics import confusion_matrix\n",
    "    confmat = confusion_matrix (y_test, y_pred)\n",
    "    print ('\\n Confusion matrix is : \\n', confmat)\n",
    "\n",
    "    # visualizing confusion matrix\n",
    "\n",
    "    #plt.clf()\n",
    "\n",
    "    plt.imshow(confmat)\n",
    "    classNames = [0, 1]\n",
    "    plt.title ('Diabetics and Non-Diabetics Confusion Matrix - Test Data')\n",
    "    plt.xlabel ('Predicted Outcome')\n",
    "    plt.ylabel ('Actual Outcome')\n",
    "    tick_marks = np.arange (len(classNames))\n",
    "\n",
    "    for i in range(2):\n",
    "        for j in range(2):\n",
    "            plt.text(j, i, confmat[i][j])\n",
    "\n",
    "            plt.xticks (tick_marks, classNames)\n",
    "            plt.yticks (tick_marks, classNames)\n",
    "\n",
    "    plt.show()\n",
    "\n",
    "    #Confusion Matrix evaluation\n",
    "\n",
    "    from sklearn import metrics\n",
    "\n",
    "    print ('Accuracy: ', metrics.accuracy_score(y_test, y_pred))\n",
    "    print ('Precision: ', metrics.precision_score(y_test, y_pred))\n",
    "    print ('Recall: ', metrics.recall_score(y_test, y_pred))\n",
    "\n",
    "\n",
    "if task == 'logistic regression':\n",
    "    \n",
    "    from sklearn.linear_model import LinearRegression\n",
    "\n",
    "    X = df.iloc[:, :-1]\n",
    "    y = df.iloc[:, -1] # assuming only one outcome value\n",
    "\n",
    "    #splitting training and testing data\n",
    "    from sklearn.model_selection import train_test_split\n",
    "\n",
    "    X_train, X_test, y_train, y_test = train_test_split (X, y, test_size =0.20, random_state = 0)\n",
    "\n",
    "#model development and prediction\n",
    "\n",
    "    from sklearn.linear_model import LogisticRegression\n",
    "    lr = LogisticRegression()\n",
    "\n",
    "\n",
    "    #fitting th model with data\n",
    "\n",
    "    lr.fit(X_train, y_train);\n",
    "\n",
    "    #prediction of value\n",
    "    y_pred = lr.predict(X_test);\n",
    "\n",
    "    #model evaluation using confusion matrix\n",
    "\n",
    "    from sklearn.metrics import confusion_matrix\n",
    "    confmat = confusion_matrix (y_test, y_pred)\n",
    "    print ('\\n Confusion matrix is : \\n', confmat)\n",
    "\n",
    "    # visualizing confusion matrix\n",
    "\n",
    "    plt.imshow(confmat)\n",
    "    classNames = [0, 1]\n",
    "    plt.title ('Diabetics and Non-Diabetics Confusion Matrix - Test Data')\n",
    "    plt.xlabel ('Predicted Outcome')\n",
    "    plt.ylabel ('Actual Outcome')\n",
    "    tick_marks = np.arange (len(classNames))\n",
    "\n",
    "    for i in range(2):\n",
    "        for j in range(2):\n",
    "            plt.text(j, i, confmat[i][j])\n",
    "\n",
    "            plt.xticks (tick_marks, classNames)\n",
    "            plt.yticks (tick_marks, classNames)\n",
    "\n",
    "    plt.show()\n",
    "\n",
    "#Confusion Matrix evaluation\n",
    "\n",
    "    from sklearn import metrics\n",
    "\n",
    "    print ('Accuracy: ', metrics.accuracy_score(y_test, y_pred))\n",
    "    print ('Precision: ', metrics.precision_score(y_test, y_pred))\n",
    "    print ('Recall: ', metrics.recall_score(y_test, y_pred))\n",
    "\n"
   ]
  },
  {
   "cell_type": "code",
   "execution_count": null,
   "metadata": {},
   "outputs": [],
   "source": []
  }
 ],
 "metadata": {
  "kernelspec": {
   "display_name": "Python 3",
   "language": "python",
   "name": "python3"
  },
  "language_info": {
   "codemirror_mode": {
    "name": "ipython",
    "version": 3
   },
   "file_extension": ".py",
   "mimetype": "text/x-python",
   "name": "python",
   "nbconvert_exporter": "python",
   "pygments_lexer": "ipython3",
   "version": "3.7.5"
  }
 },
 "nbformat": 4,
 "nbformat_minor": 4
}
