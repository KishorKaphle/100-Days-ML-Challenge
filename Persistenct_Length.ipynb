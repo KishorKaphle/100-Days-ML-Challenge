{
  "nbformat": 4,
  "nbformat_minor": 0,
  "metadata": {
    "colab": {
      "name": "Persistenct Length.ipynb",
      "provenance": [],
      "collapsed_sections": [],
      "authorship_tag": "ABX9TyNgxEXZ7b4UFWnGy9SmmPm0",
      "include_colab_link": true
    },
    "kernelspec": {
      "name": "python3",
      "display_name": "Python 3"
    },
    "language_info": {
      "name": "python"
    },
    "accelerator": "GPU"
  },
  "cells": [
    {
      "cell_type": "markdown",
      "metadata": {
        "id": "view-in-github",
        "colab_type": "text"
      },
      "source": [
        "<a href=\"https://colab.research.google.com/github/KishorKaphle/100-Days-ML-Challenge/blob/master/Persistenct_Length.ipynb\" target=\"_parent\"><img src=\"https://colab.research.google.com/assets/colab-badge.svg\" alt=\"Open In Colab\"/></a>"
      ]
    },
    {
      "cell_type": "markdown",
      "metadata": {
        "id": "nEUri5o80xvp"
      },
      "source": [
        "Installation of dependencies"
      ]
    },
    {
      "cell_type": "code",
      "metadata": {
        "colab": {
          "base_uri": "https://localhost:8080/"
        },
        "id": "kjqNVEV70uNS",
        "outputId": "c28aae25-b206-4d73-ccf4-a4996aef9f51"
      },
      "source": [
        "!wget -O mini.sh https://repo.anaconda.com/miniconda/Miniconda3-4.6.14-Linux-x86_64.sh \n",
        "!bash ./mini.sh -b -f -p /usr/local\n",
        "!conda install -q -y --prefix /usr/local -c conda-forge mdanalysis\n",
        "import sys\n",
        "sys.path.append('/usr/local/lib/python3.7/site-packages/')\n",
        "\n",
        "!conda install -c conda-forge MDAnalysisTests"
      ],
      "execution_count": null,
      "outputs": [
        {
          "output_type": "stream",
          "text": [
            "--2021-04-07 18:35:58--  https://repo.anaconda.com/miniconda/Miniconda3-4.6.14-Linux-x86_64.sh\n",
            "Resolving repo.anaconda.com (repo.anaconda.com)... 104.16.131.3, 104.16.130.3, 2606:4700::6810:8303, ...\n",
            "Connecting to repo.anaconda.com (repo.anaconda.com)|104.16.131.3|:443... connected.\n",
            "HTTP request sent, awaiting response... 200 OK\n",
            "Length: 70348401 (67M) [application/x-sh]\n",
            "Saving to: ‘mini.sh’\n",
            "\n",
            "mini.sh             100%[===================>]  67.09M  8.30MB/s    in 8.4s    \n",
            "\n",
            "2021-04-07 18:36:07 (8.03 MB/s) - ‘mini.sh’ saved [70348401/70348401]\n",
            "\n",
            "PREFIX=/usr/local\n",
            "reinstalling: python-3.7.3-h0371630_0 ...\n",
            "using -f (force) option\n",
            "Python 3.7.3\n",
            "reinstalling: ca-certificates-2019.1.23-0 ...\n",
            "using -f (force) option\n",
            "reinstalling: libgcc-ng-8.2.0-hdf63c60_1 ...\n",
            "using -f (force) option\n",
            "reinstalling: libstdcxx-ng-8.2.0-hdf63c60_1 ...\n",
            "using -f (force) option\n",
            "reinstalling: libffi-3.2.1-hd88cf55_4 ...\n",
            "using -f (force) option\n",
            "reinstalling: ncurses-6.1-he6710b0_1 ...\n",
            "using -f (force) option\n",
            "reinstalling: openssl-1.1.1b-h7b6447c_1 ...\n",
            "using -f (force) option\n",
            "reinstalling: xz-5.2.4-h14c3975_4 ...\n",
            "using -f (force) option\n",
            "reinstalling: yaml-0.1.7-had09818_2 ...\n",
            "using -f (force) option\n",
            "reinstalling: zlib-1.2.11-h7b6447c_3 ...\n",
            "using -f (force) option\n",
            "reinstalling: libedit-3.1.20181209-hc058e9b_0 ...\n",
            "using -f (force) option\n",
            "reinstalling: readline-7.0-h7b6447c_5 ...\n",
            "using -f (force) option\n",
            "reinstalling: tk-8.6.8-hbc83047_0 ...\n",
            "using -f (force) option\n",
            "reinstalling: sqlite-3.27.2-h7b6447c_0 ...\n",
            "using -f (force) option\n",
            "reinstalling: asn1crypto-0.24.0-py37_0 ...\n",
            "using -f (force) option\n",
            "reinstalling: certifi-2019.3.9-py37_0 ...\n",
            "using -f (force) option\n",
            "reinstalling: chardet-3.0.4-py37_1 ...\n",
            "using -f (force) option\n",
            "reinstalling: idna-2.8-py37_0 ...\n",
            "using -f (force) option\n",
            "reinstalling: pycosat-0.6.3-py37h14c3975_0 ...\n",
            "using -f (force) option\n",
            "reinstalling: pycparser-2.19-py37_0 ...\n",
            "using -f (force) option\n",
            "reinstalling: pysocks-1.6.8-py37_0 ...\n",
            "using -f (force) option\n",
            "reinstalling: ruamel_yaml-0.15.46-py37h14c3975_0 ...\n",
            "using -f (force) option\n",
            "reinstalling: six-1.12.0-py37_0 ...\n",
            "using -f (force) option\n",
            "reinstalling: cffi-1.12.2-py37h2e261b9_1 ...\n",
            "using -f (force) option\n",
            "reinstalling: setuptools-41.0.0-py37_0 ...\n",
            "using -f (force) option\n",
            "reinstalling: cryptography-2.6.1-py37h1ba5d50_0 ...\n",
            "using -f (force) option\n",
            "reinstalling: wheel-0.33.1-py37_0 ...\n",
            "using -f (force) option\n",
            "reinstalling: pip-19.0.3-py37_0 ...\n",
            "using -f (force) option\n",
            "reinstalling: pyopenssl-19.0.0-py37_0 ...\n",
            "using -f (force) option\n",
            "reinstalling: urllib3-1.24.1-py37_0 ...\n",
            "using -f (force) option\n",
            "reinstalling: requests-2.21.0-py37_0 ...\n",
            "using -f (force) option\n",
            "reinstalling: conda-4.6.14-py37_0 ...\n",
            "using -f (force) option\n",
            "using -f (force) option\n",
            "installation finished.\n",
            "WARNING:\n",
            "    You currently have a PYTHONPATH environment variable set. This may cause\n",
            "    unexpected behavior when running the Python interpreter in Miniconda3.\n",
            "    For best results, please verify that your PYTHONPATH only points to\n",
            "    directories of packages that are compatible with the Python interpreter\n",
            "    in Miniconda3: /usr/local\n",
            "Collecting package metadata: ...working... done\n",
            "Solving environment: ...working... done\n",
            "\n",
            "## Package Plan ##\n",
            "\n",
            "  environment location: /usr/local\n",
            "\n",
            "  added / updated specs:\n",
            "    - mdanalysis\n",
            "\n",
            "\n",
            "The following packages will be downloaded:\n",
            "\n",
            "    package                    |            build\n",
            "    ---------------------------|-----------------\n",
            "    _libgcc_mutex-0.1          |      conda_forge           3 KB  conda-forge\n",
            "    _openmp_mutex-4.5          |            1_gnu          22 KB  conda-forge\n",
            "    biopython-1.76             |   py37h516909a_0         2.6 MB  conda-forge\n",
            "    bzip2-1.0.8                |       h7f98852_4         484 KB  conda-forge\n",
            "    c-ares-1.17.1              |       h7f98852_1         109 KB  conda-forge\n",
            "    ca-certificates-2020.12.5  |       ha878542_0         137 KB  conda-forge\n",
            "    certifi-2020.12.5          |   py37h89c1867_1         143 KB  conda-forge\n",
            "    cftime-1.4.1               |   py37h902c9e0_0         310 KB  conda-forge\n",
            "    conda-4.10.0               |   py37h89c1867_1         3.1 MB  conda-forge\n",
            "    conda-package-handling-1.7.2|   py37hb5d75c8_0         915 KB  conda-forge\n",
            "    curl-7.76.0                |       h979ede3_0         149 KB  conda-forge\n",
            "    cycler-0.10.0              |             py_2           9 KB  conda-forge\n",
            "    decorator-5.0.5            |     pyhd8ed1ab_0          11 KB  conda-forge\n",
            "    freetype-2.10.4            |       h0708190_1         890 KB  conda-forge\n",
            "    griddataformats-0.5.0      |             py_0         2.0 MB  conda-forge\n",
            "    gsd-2.4.1                  |   py37h902c9e0_0         130 KB  conda-forge\n",
            "    hdf4-4.2.13                |    h10796ff_1004         951 KB  conda-forge\n",
            "    hdf5-1.10.6                |nompi_h6a2412b_1114         3.1 MB  conda-forge\n",
            "    icu-58.2                   |    hf484d3e_1000        22.6 MB  conda-forge\n",
            "    joblib-0.14.1              |     pyh9f0ad1d_0         198 KB  conda-forge\n",
            "    jpeg-9d                    |       h36c2ea0_0         264 KB  conda-forge\n",
            "    kiwisolver-1.3.1           |   py37h2527ec5_1          78 KB  conda-forge\n",
            "    krb5-1.17.1                |       h173b8e3_0         1.5 MB\n",
            "    libblas-3.9.0              |       8_openblas          11 KB  conda-forge\n",
            "    libcblas-3.9.0             |       8_openblas          11 KB  conda-forge\n",
            "    libcurl-7.76.0             |       hc4aaa36_0         328 KB  conda-forge\n",
            "    libev-4.33                 |       h516909a_1         104 KB  conda-forge\n",
            "    libgcc-ng-9.3.0            |      h2828fa1_18         7.8 MB  conda-forge\n",
            "    libgfortran-ng-9.3.0       |      hff62375_18          22 KB  conda-forge\n",
            "    libgfortran5-9.3.0         |      hff62375_18         2.0 MB  conda-forge\n",
            "    libgomp-9.3.0              |      h2828fa1_18         376 KB  conda-forge\n",
            "    liblapack-3.9.0            |       8_openblas          11 KB  conda-forge\n",
            "    libnetcdf-4.7.4            |nompi_h56d31a8_107         1.3 MB  conda-forge\n",
            "    libnghttp2-1.43.0          |       h812cca2_0         808 KB  conda-forge\n",
            "    libopenblas-0.3.12         |pthreads_h4812303_1         8.9 MB  conda-forge\n",
            "    libpng-1.6.37              |       h21135ba_2         306 KB  conda-forge\n",
            "    libssh2-1.9.0              |       ha56f1ee_6         226 KB  conda-forge\n",
            "    libstdcxx-ng-9.3.0         |      h6de172a_18         4.0 MB  conda-forge\n",
            "    matplotlib-base-3.2.1      |   py37hef1b27d_0         7.1 MB\n",
            "    mdanalysis-1.0.1           |   py37hcd2ae1e_3         2.1 MB  conda-forge\n",
            "    mmtf-python-1.1.2          |             py_0          21 KB  conda-forge\n",
            "    msgpack-python-1.0.2       |   py37h2527ec5_1          91 KB  conda-forge\n",
            "    netcdf4-1.5.6              |nompi_py37hdbee05a_100         529 KB  conda-forge\n",
            "    networkx-2.5               |             py_0         1.2 MB  conda-forge\n",
            "    numpy-1.16.6               |   py37haa41c4c_0         4.3 MB  conda-forge\n",
            "    openssl-1.1.1k             |       h7f98852_0         2.1 MB  conda-forge\n",
            "    pandas-1.2.3               |   py37hdc94413_0        11.8 MB  conda-forge\n",
            "    patsy-0.5.1                |             py_0         187 KB  conda-forge\n",
            "    pyparsing-2.4.7            |     pyh9f0ad1d_0          60 KB  conda-forge\n",
            "    python-dateutil-2.8.1      |             py_0         220 KB  conda-forge\n",
            "    python_abi-3.7             |          1_cp37m           4 KB  conda-forge\n",
            "    pytz-2021.1                |     pyhd8ed1ab_0         239 KB  conda-forge\n",
            "    scikit-learn-0.24.1        |   py37h69acf81_0         7.5 MB  conda-forge\n",
            "    scipy-1.6.1                |   py37h14a347d_0        20.5 MB  conda-forge\n",
            "    seaborn-0.11.1             |       hd8ed1ab_1           4 KB  conda-forge\n",
            "    seaborn-base-0.11.1        |     pyhd8ed1ab_1         217 KB  conda-forge\n",
            "    statsmodels-0.12.2         |   py37h902c9e0_0        11.3 MB  conda-forge\n",
            "    threadpoolctl-2.1.0        |     pyh5ca1d4c_0          15 KB  conda-forge\n",
            "    tornado-6.1                |   py37h5e8e339_1         646 KB  conda-forge\n",
            "    tqdm-4.60.0                |     pyhd8ed1ab_0          79 KB  conda-forge\n",
            "    ------------------------------------------------------------\n",
            "                                           Total:       135.8 MB\n",
            "\n",
            "The following NEW packages will be INSTALLED:\n",
            "\n",
            "  _libgcc_mutex      conda-forge/linux-64::_libgcc_mutex-0.1-conda_forge\n",
            "  _openmp_mutex      conda-forge/linux-64::_openmp_mutex-4.5-1_gnu\n",
            "  biopython          conda-forge/linux-64::biopython-1.76-py37h516909a_0\n",
            "  bzip2              conda-forge/linux-64::bzip2-1.0.8-h7f98852_4\n",
            "  c-ares             conda-forge/linux-64::c-ares-1.17.1-h7f98852_1\n",
            "  cftime             conda-forge/linux-64::cftime-1.4.1-py37h902c9e0_0\n",
            "  conda-package-han~ conda-forge/linux-64::conda-package-handling-1.7.2-py37hb5d75c8_0\n",
            "  curl               conda-forge/linux-64::curl-7.76.0-h979ede3_0\n",
            "  cycler             conda-forge/noarch::cycler-0.10.0-py_2\n",
            "  decorator          conda-forge/noarch::decorator-5.0.5-pyhd8ed1ab_0\n",
            "  freetype           conda-forge/linux-64::freetype-2.10.4-h0708190_1\n",
            "  griddataformats    conda-forge/noarch::griddataformats-0.5.0-py_0\n",
            "  gsd                conda-forge/linux-64::gsd-2.4.1-py37h902c9e0_0\n",
            "  hdf4               conda-forge/linux-64::hdf4-4.2.13-h10796ff_1004\n",
            "  hdf5               conda-forge/linux-64::hdf5-1.10.6-nompi_h6a2412b_1114\n",
            "  icu                conda-forge/linux-64::icu-58.2-hf484d3e_1000\n",
            "  joblib             conda-forge/noarch::joblib-0.14.1-pyh9f0ad1d_0\n",
            "  jpeg               conda-forge/linux-64::jpeg-9d-h36c2ea0_0\n",
            "  kiwisolver         conda-forge/linux-64::kiwisolver-1.3.1-py37h2527ec5_1\n",
            "  krb5               pkgs/main/linux-64::krb5-1.17.1-h173b8e3_0\n",
            "  libblas            conda-forge/linux-64::libblas-3.9.0-8_openblas\n",
            "  libcblas           conda-forge/linux-64::libcblas-3.9.0-8_openblas\n",
            "  libcurl            conda-forge/linux-64::libcurl-7.76.0-hc4aaa36_0\n",
            "  libev              conda-forge/linux-64::libev-4.33-h516909a_1\n",
            "  libgfortran-ng     conda-forge/linux-64::libgfortran-ng-9.3.0-hff62375_18\n",
            "  libgfortran5       conda-forge/linux-64::libgfortran5-9.3.0-hff62375_18\n",
            "  libgomp            conda-forge/linux-64::libgomp-9.3.0-h2828fa1_18\n",
            "  liblapack          conda-forge/linux-64::liblapack-3.9.0-8_openblas\n",
            "  libnetcdf          conda-forge/linux-64::libnetcdf-4.7.4-nompi_h56d31a8_107\n",
            "  libnghttp2         conda-forge/linux-64::libnghttp2-1.43.0-h812cca2_0\n",
            "  libopenblas        conda-forge/linux-64::libopenblas-0.3.12-pthreads_h4812303_1\n",
            "  libpng             conda-forge/linux-64::libpng-1.6.37-h21135ba_2\n",
            "  libssh2            conda-forge/linux-64::libssh2-1.9.0-ha56f1ee_6\n",
            "  matplotlib-base    pkgs/main/linux-64::matplotlib-base-3.2.1-py37hef1b27d_0\n",
            "  mdanalysis         conda-forge/linux-64::mdanalysis-1.0.1-py37hcd2ae1e_3\n",
            "  mmtf-python        conda-forge/noarch::mmtf-python-1.1.2-py_0\n",
            "  msgpack-python     conda-forge/linux-64::msgpack-python-1.0.2-py37h2527ec5_1\n",
            "  netcdf4            conda-forge/linux-64::netcdf4-1.5.6-nompi_py37hdbee05a_100\n",
            "  networkx           conda-forge/noarch::networkx-2.5-py_0\n",
            "  numpy              conda-forge/linux-64::numpy-1.16.6-py37haa41c4c_0\n",
            "  pandas             conda-forge/linux-64::pandas-1.2.3-py37hdc94413_0\n",
            "  patsy              conda-forge/noarch::patsy-0.5.1-py_0\n",
            "  pyparsing          conda-forge/noarch::pyparsing-2.4.7-pyh9f0ad1d_0\n",
            "  python-dateutil    conda-forge/noarch::python-dateutil-2.8.1-py_0\n",
            "  python_abi         conda-forge/linux-64::python_abi-3.7-1_cp37m\n",
            "  pytz               conda-forge/noarch::pytz-2021.1-pyhd8ed1ab_0\n",
            "  scikit-learn       conda-forge/linux-64::scikit-learn-0.24.1-py37h69acf81_0\n",
            "  scipy              conda-forge/linux-64::scipy-1.6.1-py37h14a347d_0\n",
            "  seaborn            conda-forge/noarch::seaborn-0.11.1-hd8ed1ab_1\n",
            "  seaborn-base       conda-forge/noarch::seaborn-base-0.11.1-pyhd8ed1ab_1\n",
            "  statsmodels        conda-forge/linux-64::statsmodels-0.12.2-py37h902c9e0_0\n",
            "  threadpoolctl      conda-forge/noarch::threadpoolctl-2.1.0-pyh5ca1d4c_0\n",
            "  tornado            conda-forge/linux-64::tornado-6.1-py37h5e8e339_1\n",
            "  tqdm               conda-forge/noarch::tqdm-4.60.0-pyhd8ed1ab_0\n",
            "\n",
            "The following packages will be UPDATED:\n",
            "\n",
            "  ca-certificates    pkgs/main::ca-certificates-2019.1.23-0 --> conda-forge::ca-certificates-2020.12.5-ha878542_0\n",
            "  certifi                pkgs/main::certifi-2019.3.9-py37_0 --> conda-forge::certifi-2020.12.5-py37h89c1867_1\n",
            "  conda                      pkgs/main::conda-4.6.14-py37_0 --> conda-forge::conda-4.10.0-py37h89c1867_1\n",
            "  libgcc-ng           pkgs/main::libgcc-ng-8.2.0-hdf63c60_1 --> conda-forge::libgcc-ng-9.3.0-h2828fa1_18\n",
            "  libstdcxx-ng       pkgs/main::libstdcxx-ng-8.2.0-hdf63c6~ --> conda-forge::libstdcxx-ng-9.3.0-h6de172a_18\n",
            "  openssl              pkgs/main::openssl-1.1.1b-h7b6447c_1 --> conda-forge::openssl-1.1.1k-h7f98852_0\n",
            "\n",
            "\n",
            "Preparing transaction: ...working... done\n",
            "Verifying transaction: ...working... done\n",
            "Executing transaction: ...working... done\n",
            "Collecting package metadata (current_repodata.json): - \b\b\\ \b\b| \b\b/ \b\b- \b\b\\ \b\b| \b\b/ \b\b- \b\b\\ \b\b| \b\b/ \b\b- \b\b\\ \b\b| \b\b/ \b\b- \b\b\\ \b\b| \b\b/ \b\b- \b\b\\ \b\b| \b\b/ \b\b- \b\b\\ \b\b| \b\b/ \b\b- \b\b\\ \b\b| \b\b/ \b\b- \b\b\\ \b\b| \b\b/ \b\b- \b\b\\ \b\b| \b\b/ \b\b- \b\b\\ \b\b| \b\b/ \b\b- \b\b\\ \b\b| \b\b/ \b\b- \b\b\\ \b\b| \b\b/ \b\b- \b\b\\ \b\b| \b\b/ \b\b- \b\b\\ \b\b| \b\b/ \b\b- \b\b\\ \b\b| \b\b/ \b\b- \b\b\\ \b\b| \b\b/ \b\b- \b\b\\ \b\b| \b\b/ \b\b- \b\b\\ \b\b| \b\b/ \b\b- \b\b\\ \b\b| \b\b/ \b\b- \b\b\\ \b\b| \b\b/ \b\b- \b\bfailed\n",
            "\n",
            "InvalidVersionSpec: Invalid version '4.19.112+': empty version component\n",
            "\n"
          ],
          "name": "stdout"
        }
      ]
    },
    {
      "cell_type": "markdown",
      "metadata": {
        "id": "vZ89ztDHn-D4"
      },
      "source": [
        "Calculation of persistence length"
      ]
    },
    {
      "cell_type": "code",
      "metadata": {
        "colab": {
          "base_uri": "https://localhost:8080/",
          "height": 402
        },
        "id": "QWACPGlr0-UO",
        "outputId": "6e776386-c6df-4cf9-e3d3-42352f70a62e"
      },
      "source": [
        "import MDAnalysis as mda\n",
        "from MDAnalysis.analysis import polymer\n",
        "\n",
        "#loading data files\n",
        "u = mda.Universe('/content/S10_UW2M.psf', '/content/S10_UW2M_dyn.dcd')\n",
        "\n",
        "#selecting polymer backbone and water from the loaded database\n",
        "PolymerBackbone = u.select_atoms('name C' or 'type O*C')\n",
        "water = u.select_atoms('name H1' or 'name H2' or 'name OH*')\n",
        "\n",
        "#verifying the atoms of polymer and water\n",
        "print(u.atoms)\n",
        "print(PolymerBackbone.atoms)\n",
        "print(water.atoms)\n",
        "\n",
        "#calculation of persistent length\n",
        "PL = polymer.PersistenceLength([PolymerBackbone])\n",
        "PL.run()\n",
        "\n",
        "# PL.perform_fit()\n",
        "PL.plot()\n",
        "print('\\nPersistence length is:', PL.lp, 'unit\\n')"
      ],
      "execution_count": null,
      "outputs": [
        {
          "output_type": "stream",
          "text": [
            "<AtomGroup [<Atom 1: C of type C of resname UNK, resid 1 and segid MOL>, <Atom 2: C of type C of resname UNK, resid 2 and segid MOL>, <Atom 3: C of type CT of resname UNK, resid 3 and segid MOL>, ..., <Atom 95627: OH2 of type OW of resname TIP, resid 638 and segid MOL>, <Atom 95628: H1 of type HT of resname TIP, resid 638 and segid MOL>, <Atom 95629: H2 of type HT of resname TIP, resid 638 and segid MOL>]>\n",
            "<AtomGroup [<Atom 1: C of type C of resname UNK, resid 1 and segid MOL>, <Atom 2: C of type C of resname UNK, resid 2 and segid MOL>, <Atom 3: C of type CT of resname UNK, resid 3 and segid MOL>, ..., <Atom 2661: C of type CT of resname UNK, resid 799 and segid MOL>, <Atom 2662: C of type CT of resname UNK, resid 800 and segid MOL>, <Atom 2664: C of type CT of resname UNK, resid 802 and segid MOL>]>\n",
            "<AtomGroup [<Atom 3726: H1 of type HT of resname TIP, resid 1 and segid MOL>, <Atom 3729: H1 of type HT of resname TIP, resid 2 and segid MOL>, <Atom 3732: H1 of type HT of resname TIP, resid 3 and segid MOL>, ..., <Atom 95622: H1 of type HT of resname TIP, resid 636 and segid MOL>, <Atom 95625: H1 of type HT of resname TIP, resid 637 and segid MOL>, <Atom 95628: H1 of type HT of resname TIP, resid 638 and segid MOL>]>\n",
            "\n",
            "Persistence length is: 6.080651525923507 unit\n",
            "\n"
          ],
          "name": "stdout"
        },
        {
          "output_type": "display_data",
          "data": {
            "image/png": "[encoded data removed]",
            "text/plain": [
              "<Figure size 432x288 with 1 Axes>"
            ]
          },
          "metadata": {
            "tags": [],
            "needs_background": "light"
          }
        }
      ]
    },
    {
      "cell_type": "code",
      "metadata": {
        "id": "ssBbEt-O4P6J",
        "colab": {
          "base_uri": "https://localhost:8080/",
          "height": 294
        },
        "outputId": "b3ef7e42-dc9b-4435-dda3-34b8ef8c2dd7"
      },
      "source": [
        "#importing required libraries\n",
        "import MDAnalysis as mda\n",
        "import numpy as np\n",
        "import MDAnalysis.analysis.rdf\n",
        "import matplotlib.pyplot as plt\n",
        "\n",
        "#loading dataset\n",
        "u = mda.Universe('/content/S10_UW2M.pdb', '/content/S10_UW2M_dyn.dcd')\n",
        "\n",
        "class CG:\n",
        "  def __init__(self, ag):\n",
        "    self.ag = ag\n",
        "    self.universe = self.ag.universe\n",
        "    self.trajectory = self.ag.universe.trajectory\n",
        "\n",
        "  @property\n",
        "  def positions(self):\n",
        "    return np.array([self.ag.center_of_geometry()])\n",
        "\n",
        "  def __len__(self):\n",
        "    return 1\n",
        "\n",
        "#subject selection for RDF computation\n",
        "cg_selection = u.select_atoms('name C')\n",
        "cg_atom = CG(cg_selection.atoms)\n",
        "water = u.select_atoms('name H1' or 'name H2' or 'name OH*')\n",
        "\n",
        "#computation of RDF\n",
        "rdf = MDAnalysis.analysis.rdf.InterRDF(cg_atom, water)\n",
        "rdf.run()\n",
        "\n",
        "#Display\n",
        "plt.plot(rdf.rdf, rdf.bins,)\n",
        "plt.title('RDF between C atoms and water')\n",
        "plt.ylabel('distribution of C atoms')\n",
        "plt.xlabel('distribution of water atoms')\n",
        "plt.show()"
      ],
      "execution_count": null,
      "outputs": [
        {
          "output_type": "display_data",
          "data": {
            "image/png": "[encoded data removed]",
            "text/plain": [
              "<Figure size 432x288 with 1 Axes>"
            ]
          },
          "metadata": {
            "tags": [],
            "needs_background": "light"
          }
        }
      ]
    },
    {
      "cell_type": "code",
      "metadata": {
        "id": "y_HtE_HmuERu"
      },
      "source": [
        ""
      ],
      "execution_count": null,
      "outputs": []
    }
  ]
}