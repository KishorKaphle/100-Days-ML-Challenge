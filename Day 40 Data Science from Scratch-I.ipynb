{
 "cells": [
  {
   "cell_type": "markdown",
   "metadata": {},
   "source": [
    "# Data Science from Scratch: First Principles with Python by Joel Grus\n",
    "\n",
    "## Introduction\n",
    "\n",
    "### The Basics: Getting Python\n",
    "\n",
    "Appending the list.\n",
    "\n",
    "#### List\n"
   ]
  },
  {
   "cell_type": "code",
   "execution_count": 2,
   "metadata": {},
   "outputs": [
    {
     "name": "stdout",
     "output_type": "stream",
     "text": [
      "[1, 2, 3, 4, 5, 6, 7]\n"
     ]
    }
   ],
   "source": [
    "x = [1, 2, 3]\n",
    "x.extend([4, 5, 6, 7])\n",
    "print (x)\n",
    "\n",
    "# use extend function for adding multiple elements in the list"
   ]
  },
  {
   "cell_type": "code",
   "execution_count": 4,
   "metadata": {},
   "outputs": [
    {
     "name": "stdout",
     "output_type": "stream",
     "text": [
      "[1, 2, 3, 4]\n"
     ]
    }
   ],
   "source": [
    "# Using append function to add one item in the list\n",
    "x = [1, 2, 3]\n",
    "x.append(4)\n",
    "print(x)"
   ]
  },
  {
   "cell_type": "markdown",
   "metadata": {},
   "source": [
    "#### Tuples\n",
    "\n",
    "Tuples are list's immutable cousins.\n",
    "\n",
    "You can do every operation like in a list but you cannot modify the tuple. \n",
    "\n",
    "List = [1, 2, 3, 4]\n",
    "Tuple = (1, 2, 3, 4) or Tuple = 1, 2, 3, 4\n",
    "\n",
    "Tuples are a convenient way to reuturn multiple values from a function"
   ]
  },
  {
   "cell_type": "code",
   "execution_count": 5,
   "metadata": {},
   "outputs": [
    {
     "data": {
      "text/plain": [
       "(9, 25)"
      ]
     },
     "execution_count": 5,
     "metadata": {},
     "output_type": "execute_result"
    }
   ],
   "source": [
    "def func(x, y):\n",
    "    Xsqr = x*x;\n",
    "    Ysqr = y*y;\n",
    "    return Xsqr, Ysqr\n",
    "\n",
    "func(3, 5)"
   ]
  },
  {
   "cell_type": "markdown",
   "metadata": {},
   "source": [
    "#### Dictionaries\n",
    "It associates values with keys and allows you to quickly retrieve the value corresponding to a giveb key. \n",
    "\n",
    "It is represented inside curly bracket.\n",
    "\n",
    "Eg. Dict = {'one': 1, 'two': 2, 'three' : 3, 'four' : 4}\n"
   ]
  },
  {
   "cell_type": "code",
   "execution_count": 11,
   "metadata": {},
   "outputs": [
    {
     "data": {
      "text/plain": [
       "1"
      ]
     },
     "execution_count": 11,
     "metadata": {},
     "output_type": "execute_result"
    }
   ],
   "source": [
    "Dict = {'one': 1, 'two': 2, 'three' : 3, 'four' : 4}\n",
    "\n",
    "Dict[\"one\"]"
   ]
  },
  {
   "cell_type": "markdown",
   "metadata": {},
   "source": [
    "We can see all the keys of the dict by using key() command as shown in the snippet below."
   ]
  },
  {
   "cell_type": "code",
   "execution_count": 16,
   "metadata": {},
   "outputs": [
    {
     "data": {
      "text/plain": [
       "dict_keys(['one', 'two', 'three', 'four'])"
      ]
     },
     "execution_count": 16,
     "metadata": {},
     "output_type": "execute_result"
    }
   ],
   "source": [
    "Dict.keys()"
   ]
  },
  {
   "cell_type": "markdown",
   "metadata": {},
   "source": [
    "Similarly, we can see all the values in the dict using values() comand as shown in the code below."
   ]
  },
  {
   "cell_type": "code",
   "execution_count": 17,
   "metadata": {},
   "outputs": [
    {
     "data": {
      "text/plain": [
       "dict_values([1, 2, 3, 4])"
      ]
     },
     "execution_count": 17,
     "metadata": {},
     "output_type": "execute_result"
    }
   ],
   "source": [
    "Dict.values()"
   ]
  },
  {
   "cell_type": "markdown",
   "metadata": {},
   "source": [
    "Dictionary keys must be immutable accordingly you cannot use list as the key of a dict however you can use tuple for it."
   ]
  },
  {
   "cell_type": "markdown",
   "metadata": {},
   "source": [
    "#### defaultdict\n",
    "\n",
    "It is like a regular dictionary, except that when you try to look up a key it doesn't contain, it first adds a value for it using a zero-argument function you provided when you created it. In order to use defaultdicts, you have to import them from collections"
   ]
  },
  {
   "cell_type": "code",
   "execution_count": 51,
   "metadata": {},
   "outputs": [
    {
     "name": "stdout",
     "output_type": "stream",
     "text": [
      "0\n",
      "defaultdict(<class 'int'>, {'H': 1, 'i': 5, ' ': 13, 't': 4, 'h': 4, 'e': 8, 'r': 4, '!': 2, 'I': 1, 'o': 4, 'p': 1, 'y': 2, 'u': 2, 'a': 4, 'v': 1, 'n': 2, 'g': 3, 'm': 1, 'd': 2, 's': 3, '.': 1, 'G': 1, 'B': 1, 'l': 1, 'k': 0})\n"
     ]
    }
   ],
   "source": [
    "from collections import defaultdict\n",
    "document = 'Hi there! I hope you are having great time reading this. God Bless you!'\n",
    "word_counts = defaultdict(int)\n",
    "\n",
    "for word in document:\n",
    "    word_counts[word] += 1\n",
    "    \n",
    "print (word_counts['k'])\n",
    "\n",
    "print (word_counts)"
   ]
  },
  {
   "cell_type": "markdown",
   "metadata": {},
   "source": [
    "Here we can see that, even the dictionary document does not have word 'k' in it, as we called it in print(word_counts['k'], key 'k' and value '0' was created. \n",
    "\n",
    "AND, if you dont want to mutate the dictionay then, add default_factory = None\n",
    "\n",
    "Let's try it!"
   ]
  },
  {
   "cell_type": "code",
   "execution_count": 62,
   "metadata": {},
   "outputs": [
    {
     "name": "stdout",
     "output_type": "stream",
     "text": [
      "0\n",
      "defaultdict(<class 'int'>, {'H': 1, 'i': 5, ' ': 14, 't': 4, 'h': 4, 'e': 8, 'r': 4, '!': 2, 'I': 1, 'o': 4, 'p': 1, 'y': 3, 'u': 2, 'a': 5, 'v': 1, 'n': 2, 'g': 3, 'm': 1, 'd': 2, 's': 3, '.': 1, 'M': 1, 'G': 1, 'B': 1, 'l': 1, 'k': 0})\n"
     ]
    }
   ],
   "source": [
    "from collections import defaultdict\n",
    "\n",
    "\n",
    "\n",
    "document = 'Hi there! I hope you are having great time reading this. May God Bless you!'\n",
    "word_counts = defaultdict(int)\n",
    "\n",
    "\n",
    "\n",
    "\n",
    "for word in document:\n",
    "    word_counts[word] += 1\n",
    "\n",
    "#word_counts.default_factory = None\n",
    "\n",
    "print (word_counts['k'])\n",
    "\n",
    "print (word_counts)"
   ]
  },
  {
   "cell_type": "markdown",
   "metadata": {},
   "source": [
    "### Another way using try and except function"
   ]
  },
  {
   "cell_type": "code",
   "execution_count": 41,
   "metadata": {},
   "outputs": [
    {
     "data": {
      "text/plain": [
       "'Opps! key = five, not found in the Dictionary!'"
      ]
     },
     "execution_count": 41,
     "metadata": {},
     "output_type": "execute_result"
    }
   ],
   "source": [
    "def get_value(dictn, key):\n",
    "    try:\n",
    "        a = dictn['key']\n",
    "    \n",
    "    except KeyError:\n",
    "        a = 'Opps! key = ' + key + ', not found in the Dictionary!'\n",
    "    \n",
    "    return a\n",
    "\n",
    "Dict = {'one': 1, 'two': 2, 'three' : 3, 'four' : 4}\n",
    "\n",
    "get_value(key = 'five', dictn = Dict)"
   ]
  },
  {
   "cell_type": "markdown",
   "metadata": {},
   "source": [
    "### Counter\n",
    "\n",
    "For counting, obviously!"
   ]
  },
  {
   "cell_type": "code",
   "execution_count": 69,
   "metadata": {},
   "outputs": [
    {
     "data": {
      "text/plain": [
       "Counter({'H': 1,\n",
       "         'i': 5,\n",
       "         ' ': 14,\n",
       "         't': 4,\n",
       "         'h': 4,\n",
       "         'e': 8,\n",
       "         'r': 4,\n",
       "         '!': 2,\n",
       "         'I': 1,\n",
       "         'o': 4,\n",
       "         'p': 1,\n",
       "         'y': 3,\n",
       "         'u': 2,\n",
       "         'a': 5,\n",
       "         'v': 1,\n",
       "         'n': 2,\n",
       "         'g': 3,\n",
       "         'm': 1,\n",
       "         'd': 2,\n",
       "         's': 3,\n",
       "         '.': 1,\n",
       "         'M': 1,\n",
       "         'G': 1,\n",
       "         'B': 1,\n",
       "         'l': 1})"
      ]
     },
     "execution_count": 69,
     "metadata": {},
     "output_type": "execute_result"
    }
   ],
   "source": [
    "from collections import Counter\n",
    "\n",
    "document = 'Hi there! I hope you are having great time reading this. May God Bless you!'\n",
    "\n",
    "Counter (document)\n"
   ]
  },
  {
   "cell_type": "markdown",
   "metadata": {},
   "source": [
    "### Sets\n",
    "\n",
    "Collection of distinct/unique elements.\n",
    "\n",
    "Operation in set is very fast and it is easy to find distinct item easily in a set (because duplicate value is not allowed in the set)\n"
   ]
  },
  {
   "cell_type": "code",
   "execution_count": 78,
   "metadata": {},
   "outputs": [
    {
     "name": "stdout",
     "output_type": "stream",
     "text": [
      "{1, 2, 3, 4, 5, 6}\n"
     ]
    }
   ],
   "source": [
    "s = set()\n",
    "\n",
    "b = 1, 2, 3, 1, 2, 3, 4, 5, 6\n",
    "\n",
    "for i in b:\n",
    "    s.add(i)\n",
    "    \n",
    "print (s)\n",
    "\n"
   ]
  },
  {
   "cell_type": "markdown",
   "metadata": {},
   "source": [
    "### The Not-So-Basics of Python Programming Language\n",
    "\n",
    "#### Sorting\n",
    "Be cautious about sort() and sorted()"
   ]
  },
  {
   "cell_type": "code",
   "execution_count": 82,
   "metadata": {},
   "outputs": [
    {
     "name": "stdout",
     "output_type": "stream",
     "text": [
      "[-33, -9, -5, 0, 1, 2, 2, 3, 4, 5, 6, 6, 7, 99]\n",
      "original:  [1, 2, 3, 4, 5, 6, 7, 2, 0, 99, -9, -5, -33, 6]\n"
     ]
    }
   ],
   "source": [
    "x = [1, 2, 3, 4, 5, 6, 7, 2,0, 99, -9, -5, -33, 6]\n",
    "\n",
    "print (sorted(x))\n",
    "\n",
    "print ('original: ', x)"
   ]
  },
  {
   "cell_type": "markdown",
   "metadata": {},
   "source": [
    "#### BUT"
   ]
  },
  {
   "cell_type": "code",
   "execution_count": 85,
   "metadata": {},
   "outputs": [
    {
     "name": "stdout",
     "output_type": "stream",
     "text": [
      "original:  [-33, -9, -5, 0, 1, 2, 2, 3, 4, 5, 6, 6, 7, 99]\n"
     ]
    }
   ],
   "source": [
    "x = [1, 2, 3, 4, 5, 6, 7, 2,0, 99, -9, -5, -33, 6]\n",
    "\n",
    "x. sort()\n",
    "\n",
    "print ('original: ', x)"
   ]
  },
  {
   "cell_type": "markdown",
   "metadata": {},
   "source": [
    "### Random\n",
    "\n",
    "If you want random number from a range then"
   ]
  },
  {
   "cell_type": "code",
   "execution_count": 91,
   "metadata": {},
   "outputs": [
    {
     "data": {
      "text/plain": [
       "3"
      ]
     },
     "execution_count": 91,
     "metadata": {},
     "output_type": "execute_result"
    }
   ],
   "source": [
    "import random\n",
    "random.randrange(10)\n",
    "# choose randomly from range(10) = [0, 1, ..., 9]"
   ]
  },
  {
   "cell_type": "markdown",
   "metadata": {},
   "source": [
    "### Object-Oriented Programming\n",
    "\n",
    "Classes encapsulate data and the functions that operate on them. "
   ]
  },
  {
   "cell_type": "code",
   "execution_count": 96,
   "metadata": {},
   "outputs": [
    {
     "name": "stdout",
     "output_type": "stream",
     "text": [
      "True\n",
      "False\n"
     ]
    }
   ],
   "source": [
    "class class_name:\n",
    "    \n",
    "    def __init__(self, values = None):\n",
    "    \n",
    "    # this is the contructor. It is like s = set() or array = []\n",
    "    \n",
    "        self.dict = {}\n",
    "    \n",
    "        if values is not None: \n",
    "            for value in values:\n",
    "                self.add(value)\n",
    "            \n",
    "    \n",
    "    def __repr__(self):\n",
    "        return 'Set: ' + str(self.dict.keys())\n",
    "    \n",
    "    # we'll represent membership by being a key in self.dict with value True\n",
    "    def add(self, value):\n",
    "        self.dict[value] = True\n",
    "    # value is in the Set if it's a key in the dictionary\n",
    "    \n",
    "    def contains(self, value):\n",
    "        return value in self.dict\n",
    "    \n",
    "    def remove(self, value):\n",
    "        del self.dict[value]\n",
    "        \n",
    "        \n",
    "\n",
    "s = class_name([1,2,3])\n",
    "s.add(4)\n",
    "print (s.contains(4))\n",
    "s.remove(3)\n",
    "print (s.contains(3))\n",
    "\n",
    "    "
   ]
  },
  {
   "cell_type": "markdown",
   "metadata": {},
   "source": [
    "### Enumerate\n",
    "\n",
    "When you require to iterate over a list and use both its elements and their indexes. "
   ]
  },
  {
   "cell_type": "code",
   "execution_count": 101,
   "metadata": {},
   "outputs": [
    {
     "name": "stdout",
     "output_type": "stream",
     "text": [
      "0\n",
      "H\n",
      "1\n",
      "i\n",
      "2\n",
      " \n",
      "3\n",
      "t\n",
      "4\n",
      "h\n",
      "5\n",
      "e\n",
      "6\n",
      "r\n",
      "7\n",
      "e\n",
      "8\n",
      "!\n",
      "9\n",
      " \n",
      "10\n",
      "I\n",
      "11\n",
      " \n",
      "12\n",
      "h\n",
      "13\n",
      "o\n",
      "14\n",
      "p\n",
      "15\n",
      "e\n",
      "16\n",
      " \n",
      "17\n",
      "y\n",
      "18\n",
      "o\n",
      "19\n",
      "u\n",
      "20\n",
      " \n",
      "21\n",
      "a\n",
      "22\n",
      "r\n",
      "23\n",
      "e\n",
      "24\n",
      " \n",
      "25\n",
      "h\n",
      "26\n",
      "a\n",
      "27\n",
      "v\n",
      "28\n",
      "i\n",
      "29\n",
      "n\n",
      "30\n",
      "g\n",
      "31\n",
      " \n",
      "32\n",
      "g\n",
      "33\n",
      "r\n",
      "34\n",
      "e\n",
      "35\n",
      "a\n",
      "36\n",
      "t\n",
      "37\n",
      " \n",
      "38\n",
      "t\n",
      "39\n",
      "i\n",
      "40\n",
      "m\n",
      "41\n",
      "e\n",
      "42\n",
      " \n",
      "43\n",
      "r\n",
      "44\n",
      "e\n",
      "45\n",
      "a\n",
      "46\n",
      "d\n",
      "47\n",
      "i\n",
      "48\n",
      "n\n",
      "49\n",
      "g\n",
      "50\n",
      " \n",
      "51\n",
      "t\n",
      "52\n",
      "h\n",
      "53\n",
      "i\n",
      "54\n",
      "s\n",
      "55\n",
      ".\n",
      "56\n",
      " \n",
      "57\n",
      "M\n",
      "58\n",
      "a\n",
      "59\n",
      "y\n",
      "60\n",
      " \n",
      "61\n",
      "G\n",
      "62\n",
      "o\n",
      "63\n",
      "d\n",
      "64\n",
      " \n",
      "65\n",
      "B\n",
      "66\n",
      "l\n",
      "67\n",
      "e\n",
      "68\n",
      "s\n",
      "69\n",
      "s\n",
      "70\n",
      " \n",
      "71\n",
      "y\n",
      "72\n",
      "o\n",
      "73\n",
      "u\n",
      "74\n",
      "!\n"
     ]
    }
   ],
   "source": [
    "document = 'Hi there! I hope you are having great time reading this. May God Bless you!'\n",
    "\n",
    "for i, doc in enumerate(document):\n",
    "    print (i) #sequence\n",
    "    print (doc) # real item\n"
   ]
  },
  {
   "cell_type": "markdown",
   "metadata": {},
   "source": [
    "### Zip and Argument Unpacking\n",
    "\n"
   ]
  },
  {
   "cell_type": "code",
   "execution_count": 114,
   "metadata": {},
   "outputs": [
    {
     "name": "stdout",
     "output_type": "stream",
     "text": [
      "{(3, 'three'), (1, 'one'), (2, 'two')}\n",
      "{('three', 'one', 'two'), (3, 1, 2)}\n"
     ]
    }
   ],
   "source": [
    "list1 = [1, 2, 3]\n",
    "list2 = ['one', 'two', 'three']\n",
    "\n",
    "list3 = set (zip(list1, list2))\n",
    "\n",
    "print (list3)\n",
    "\n",
    "unzip = set (zip(*list3))\n",
    "\n",
    "print (unzip)"
   ]
  }
 ],
 "metadata": {
  "kernelspec": {
   "display_name": "Python 3",
   "language": "python",
   "name": "python3"
  },
  "language_info": {
   "codemirror_mode": {
    "name": "ipython",
    "version": 3
   },
   "file_extension": ".py",
   "mimetype": "text/x-python",
   "name": "python",
   "nbconvert_exporter": "python",
   "pygments_lexer": "ipython3",
   "version": "3.8.5"
  }
 },
 "nbformat": 4,
 "nbformat_minor": 4
}
