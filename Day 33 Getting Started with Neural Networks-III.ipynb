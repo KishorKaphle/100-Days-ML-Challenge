{
 "cells": [
  {
   "attachments": {
    "image.png": {
     "image/png": "[encoded data removed]"
    }
   },
   "cell_type": "markdown",
   "metadata": {},
   "source": [
    "# Chapter 3\n",
    "\n",
    "## 3.1 Anatomy of a neural network\n",
    "\n",
    "1. Layers\n",
    "2. Input data\n",
    "3. Loss Function\n",
    "4. Optimizer\n",
    "\n",
    "![image.png](attachment:image.png)\n",
    "\n",
    "(Image source: Deep Learning with Python)"
   ]
  },
  {
   "cell_type": "code",
   "execution_count": 2,
   "metadata": {},
   "outputs": [],
   "source": [
    "from keras import layers\n",
    "layer = layers.Dense(32, input_shape = (784, )) #  a dense layer with 32 output units\n",
    "\n",
    "# the above layer will only accept 2D tensor where the first dimension is 784 (axis 0, the batch dimension, is unspecified, and thus any value would be accepted)\n"
   ]
  },
  {
   "cell_type": "markdown",
   "metadata": {},
   "source": [
    "During creating layers in Keras, you don't need to worry about the compatibility. For example:"
   ]
  },
  {
   "cell_type": "code",
   "execution_count": 3,
   "metadata": {},
   "outputs": [],
   "source": [
    "from keras import models\n",
    "from keras import layers\n",
    "\n",
    "model = models.Sequential()\n",
    "\n",
    "model.add(layers.Dense(32, input_shape = (784,)))\n",
    "model.add(layers.Dense(32))\n"
   ]
  },
  {
   "cell_type": "markdown",
   "metadata": {},
   "source": [
    "The second layer didn't receive an input shape argument- instead, it automatically inferred its input shape as being the output shape of the layer that came before.\n",
    "\n",
    "## Loss functions and optimizers: keys to configuring the learning process\n",
    "\n",
    "Even after the network architecture is defined, you still have to choose two more things:\n",
    "1. Loss function(objective function): Quantity that will be minimized during training. It represents a measure of success for the task at hand.\n",
    "\n",
    "2. Optimizer: Determines how the network will be updated based on a single scaler loss value\n",
    "\n",
    "\n",
    "* A neural network that has multiple outputs may have multiple loss functions (one per output). But the gradient-descent process must be based on a single scaller loss valur; so, for multiloss networks, all losses are combined (via averaging) into a single scaler quantity. Choosing the right objective function for the right problem is extremely important: your network will take any shortcut it can, to minimize the loss; so if the objective doesn't fully correlate with success forthe task at hand, your network will end up doing things you may not have wanted. "
   ]
  },
  {
   "cell_type": "markdown",
   "metadata": {},
   "source": [
    "## Introduction to Keras\n",
    "\n",
    "Key features of Keras:\n",
    "\n",
    "* It allows the same code to run seamlessly on CPU or GPU\n",
    "\n",
    "* It has a user-friendly API that makes it easy to quickly prototype deep-learning models\n",
    "\n",
    "* It has built-in support for convolutional networks (for computer vision), recurent networks (for sequence processing), and combination of both.\n",
    "\n",
    "* It support arbitrary network architectures.\n",
    "\n",
    "\n",
    "### Developing with Keras: a quick overview\n",
    "\n",
    "The typical Keras workflow looks like:\n",
    "\n",
    "1. Define your training data: input tensors and target tensors.\n",
    "\n",
    "2. Define a network of layers (or model) that maps your inputs to your targets.\n",
    "\n",
    "3. Configure the learning process by choosing a loss function, an optimizer, and some metrics to monitor.\n",
    "\n",
    "4. Iterate on your training data by calling the fit() method of your model.\n",
    "\n",
    "There are two ways to define a model: \n",
    "\n",
    "a. using the Sequential class (only for linear stacks of layers, which is the most common network archtitecture by far) \n",
    "\n",
    "b. functional API (for directed acyclic graphs of layers, which lets you build completely arbitarary architectures)."
   ]
  },
  {
   "cell_type": "code",
   "execution_count": 4,
   "metadata": {},
   "outputs": [],
   "source": [
    "from keras import models\n",
    "from keras import layers\n",
    "\n",
    "model = models.Sequential() # for linear stacks of layers\n",
    "model.add(layers.Dense(32, activation = 'relu', input_shape=(784, )))\n",
    "model.add(layers.Dense(10, activation = 'softmax')) # output layer; softmax gives probability\n"
   ]
  },
  {
   "cell_type": "code",
   "execution_count": 6,
   "metadata": {},
   "outputs": [],
   "source": [
    "# using functional API\n",
    "input_tensor = layers.Input(shape = (784, ))\n",
    "x = layers.Dense(32, activation = 'relu')(input_tensor)\n",
    "output_tensor = layers.Dense(10, activation = 'softmax')(x)\n",
    "\n",
    "model = models.Model(inputs = input_tensor, outputs = output_tensor)"
   ]
  },
  {
   "cell_type": "code",
   "execution_count": 8,
   "metadata": {},
   "outputs": [],
   "source": [
    "from keras import optimizers\n",
    "\n",
    "model.compile(optimizer = optimizers.RMSprop(lr=0.001),\n",
    "              loss = 'mse', metrics = ['accuracy'])"
   ]
  },
  {
   "cell_type": "code",
   "execution_count": null,
   "metadata": {},
   "outputs": [],
   "source": [
    "model.fit(input_tensor, target_tensor, batch_size = 128, epochs= 10)"
   ]
  },
  {
   "cell_type": "markdown",
   "metadata": {},
   "source": [
    "## Setting up a deep-learning workstation\n",
    "\n",
    "You will need GPU! Opps! That is hard part for me and I have to compromise it!"
   ]
  },
  {
   "cell_type": "markdown",
   "metadata": {},
   "source": [
    "### Classifying movie reviews: a binary classification example\n",
    "\n",
    "#### The IMDB dataset\n",
    "\n"
   ]
  },
  {
   "cell_type": "code",
   "execution_count": 13,
   "metadata": {},
   "outputs": [],
   "source": [
    "# loading the IMDB dataset; a set of 50, 000 highly popularized review from the Internet Movie Database\n",
    "from keras.datasets import imdb\n",
    "(train_data, train_labels), (test_data, test_labels) = imdb.load_data(num_words = 10000) # num_words = 10000 means that you will only keep the top 10000 most frequently occuring words in the training data\n"
   ]
  },
  {
   "cell_type": "code",
   "execution_count": 14,
   "metadata": {},
   "outputs": [
    {
     "data": {
      "text/plain": [
       "[1,\n",
       " 194,\n",
       " 1153,\n",
       " 194,\n",
       " 8255,\n",
       " 78,\n",
       " 228,\n",
       " 5,\n",
       " 6,\n",
       " 1463,\n",
       " 4369,\n",
       " 5012,\n",
       " 134,\n",
       " 26,\n",
       " 4,\n",
       " 715,\n",
       " 8,\n",
       " 118,\n",
       " 1634,\n",
       " 14,\n",
       " 394,\n",
       " 20,\n",
       " 13,\n",
       " 119,\n",
       " 954,\n",
       " 189,\n",
       " 102,\n",
       " 5,\n",
       " 207,\n",
       " 110,\n",
       " 3103,\n",
       " 21,\n",
       " 14,\n",
       " 69,\n",
       " 188,\n",
       " 8,\n",
       " 30,\n",
       " 23,\n",
       " 7,\n",
       " 4,\n",
       " 249,\n",
       " 126,\n",
       " 93,\n",
       " 4,\n",
       " 114,\n",
       " 9,\n",
       " 2300,\n",
       " 1523,\n",
       " 5,\n",
       " 647,\n",
       " 4,\n",
       " 116,\n",
       " 9,\n",
       " 35,\n",
       " 8163,\n",
       " 4,\n",
       " 229,\n",
       " 9,\n",
       " 340,\n",
       " 1322,\n",
       " 4,\n",
       " 118,\n",
       " 9,\n",
       " 4,\n",
       " 130,\n",
       " 4901,\n",
       " 19,\n",
       " 4,\n",
       " 1002,\n",
       " 5,\n",
       " 89,\n",
       " 29,\n",
       " 952,\n",
       " 46,\n",
       " 37,\n",
       " 4,\n",
       " 455,\n",
       " 9,\n",
       " 45,\n",
       " 43,\n",
       " 38,\n",
       " 1543,\n",
       " 1905,\n",
       " 398,\n",
       " 4,\n",
       " 1649,\n",
       " 26,\n",
       " 6853,\n",
       " 5,\n",
       " 163,\n",
       " 11,\n",
       " 3215,\n",
       " 2,\n",
       " 4,\n",
       " 1153,\n",
       " 9,\n",
       " 194,\n",
       " 775,\n",
       " 7,\n",
       " 8255,\n",
       " 2,\n",
       " 349,\n",
       " 2637,\n",
       " 148,\n",
       " 605,\n",
       " 2,\n",
       " 8003,\n",
       " 15,\n",
       " 123,\n",
       " 125,\n",
       " 68,\n",
       " 2,\n",
       " 6853,\n",
       " 15,\n",
       " 349,\n",
       " 165,\n",
       " 4362,\n",
       " 98,\n",
       " 5,\n",
       " 4,\n",
       " 228,\n",
       " 9,\n",
       " 43,\n",
       " 2,\n",
       " 1157,\n",
       " 15,\n",
       " 299,\n",
       " 120,\n",
       " 5,\n",
       " 120,\n",
       " 174,\n",
       " 11,\n",
       " 220,\n",
       " 175,\n",
       " 136,\n",
       " 50,\n",
       " 9,\n",
       " 4373,\n",
       " 228,\n",
       " 8255,\n",
       " 5,\n",
       " 2,\n",
       " 656,\n",
       " 245,\n",
       " 2350,\n",
       " 5,\n",
       " 4,\n",
       " 9837,\n",
       " 131,\n",
       " 152,\n",
       " 491,\n",
       " 18,\n",
       " 2,\n",
       " 32,\n",
       " 7464,\n",
       " 1212,\n",
       " 14,\n",
       " 9,\n",
       " 6,\n",
       " 371,\n",
       " 78,\n",
       " 22,\n",
       " 625,\n",
       " 64,\n",
       " 1382,\n",
       " 9,\n",
       " 8,\n",
       " 168,\n",
       " 145,\n",
       " 23,\n",
       " 4,\n",
       " 1690,\n",
       " 15,\n",
       " 16,\n",
       " 4,\n",
       " 1355,\n",
       " 5,\n",
       " 28,\n",
       " 6,\n",
       " 52,\n",
       " 154,\n",
       " 462,\n",
       " 33,\n",
       " 89,\n",
       " 78,\n",
       " 285,\n",
       " 16,\n",
       " 145,\n",
       " 95]"
      ]
     },
     "execution_count": 14,
     "metadata": {},
     "output_type": "execute_result"
    }
   ],
   "source": [
    "train_data[1]"
   ]
  },
  {
   "cell_type": "code",
   "execution_count": 15,
   "metadata": {},
   "outputs": [
    {
     "data": {
      "text/plain": [
       "0"
      ]
     },
     "execution_count": 15,
     "metadata": {},
     "output_type": "execute_result"
    }
   ],
   "source": [
    "train_labels[1]"
   ]
  },
  {
   "cell_type": "markdown",
   "metadata": {},
   "source": [
    "Here 0 means negative and 1 means positive in the dataset\n"
   ]
  },
  {
   "cell_type": "code",
   "execution_count": 16,
   "metadata": {},
   "outputs": [
    {
     "data": {
      "text/plain": [
       "9999"
      ]
     },
     "execution_count": 16,
     "metadata": {},
     "output_type": "execute_result"
    }
   ],
   "source": [
    "max([max(sequence) for sequence in train_data])"
   ]
  },
  {
   "cell_type": "markdown",
   "metadata": {},
   "source": [
    "Because we are restricting to the top 10, 000 most frequent words, no word index will exceed 10, 000."
   ]
  },
  {
   "cell_type": "code",
   "execution_count": 19,
   "metadata": {},
   "outputs": [],
   "source": [
    "#word_index is a dictionary mapping words to an integer index\n",
    "word_index = imdb.get_word_index()\n",
    "\n",
    "reverse_word_index = dict([(value, key) \n",
    "                           for (key, value) in word_index.items()])\n",
    "\n",
    "#reverse it, mapping integer indices to words.\n",
    "#decode the review. Note that the indices are offsets by 3 beacuse 0, 1, and 2 reversed indices for \"pading\", \"start of sequence\", and \"unknown.\"\n",
    "\n",
    "decoded_review = ' '.join([reverse_word_index.get(i-3, '?')\n",
    "                          for i in train_data[1]])"
   ]
  },
  {
   "cell_type": "markdown",
   "metadata": {},
   "source": [
    "### Preparing the data\n",
    " You can't feed integers into a neural network. You have to turn your lists into tensors. Two ways for it:\n",
    " \n",
    " 1. Pad your lists so that they all have the same length, turn them into an integer tensor of shape(samples, word_indices), and then use as the first layer in your network a layer capable of handling such integer tensors (the embedding layer)\n",
    " \n",
    " 2. One-hot encode your lists to turn them into vectors of 0s and 1s. \n",
    " \n",
    " \n",
    " Details of one-hot encoder:"
   ]
  },
  {
   "cell_type": "code",
   "execution_count": 21,
   "metadata": {},
   "outputs": [],
   "source": [
    "import numpy as np\n",
    "\n",
    "def vectorize_sequences(sequences, dimension = 10000):\n",
    "    #creating an all-zero matrix of shape (len(sequences), dimension)\n",
    "    results = np.zeros((len(sequences), dimension))\n",
    "    \n",
    "    for i, sequence in enumerate(sequences):\n",
    "        results[i, sequence]=1. # sets specific indices of results[i] to 1s\n",
    "    return results\n",
    "\n",
    "x_train = vectorize_sequences(train_data) #vectorized training data\n",
    "\n",
    "x_test = vectorize_sequences(test_data) #vectorized test data\n",
    "\n",
    "    "
   ]
  },
  {
   "cell_type": "code",
   "execution_count": 22,
   "metadata": {},
   "outputs": [
    {
     "data": {
      "text/plain": [
       "array([0., 1., 1., ..., 0., 0., 0.])"
      ]
     },
     "execution_count": 22,
     "metadata": {},
     "output_type": "execute_result"
    }
   ],
   "source": [
    "x_train[0]\n"
   ]
  },
  {
   "cell_type": "code",
   "execution_count": null,
   "metadata": {},
   "outputs": [],
   "source": []
  }
 ],
 "metadata": {
  "kernelspec": {
   "display_name": "Python 3",
   "language": "python",
   "name": "python3"
  },
  "language_info": {
   "codemirror_mode": {
    "name": "ipython",
    "version": 3
   },
   "file_extension": ".py",
   "mimetype": "text/x-python",
   "name": "python",
   "nbconvert_exporter": "python",
   "pygments_lexer": "ipython3",
   "version": "3.8.2"
  }
 },
 "nbformat": 4,
 "nbformat_minor": 4
}
