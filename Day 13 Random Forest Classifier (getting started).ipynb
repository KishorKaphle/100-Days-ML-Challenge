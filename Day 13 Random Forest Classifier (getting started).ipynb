{
 "cells": [
  {
   "cell_type": "code",
   "execution_count": 26,
   "metadata": {},
   "outputs": [],
   "source": [
    "import pandas as pd\n",
    "from sklearn.model_selection import train_test_split\n",
    "from sklearn.ensemble import RandomForestClassifier\n",
    "from sklearn import metrics\n",
    "import seaborn as sns\n",
    "import matplotlib.pyplot as plt\n"
   ]
  },
  {
   "cell_type": "code",
   "execution_count": 27,
   "metadata": {},
   "outputs": [],
   "source": [
    "# creating the dataframe"
   ]
  },
  {
   "cell_type": "code",
   "execution_count": 28,
   "metadata": {},
   "outputs": [
    {
     "name": "stdout",
     "output_type": "stream",
     "text": [
      "    gmat  gpa  work_experience  age  admitted\n",
      "0    780  4.0                3   25         2\n",
      "1    750  3.9                4   28         2\n",
      "2    690  3.3                3   24         1\n",
      "3    710  3.7                5   27         2\n",
      "4    780  3.9                4   26         2\n",
      "5    730  3.7                6   31         2\n",
      "6    690  2.3                1   24         0\n",
      "7    720  3.3                4   25         2\n",
      "8    740  3.3                5   28         2\n",
      "9    690  1.7                1   23         0\n",
      "10   610  2.7                3   25         0\n",
      "11   690  3.7                5   27         2\n",
      "12   710  3.7                6   30         2\n",
      "13   680  3.3                4   28         1\n",
      "14   770  3.3                3   26         2\n",
      "15   610  3.0                1   23         0\n",
      "16   580  2.7                4   29         0\n",
      "17   650  3.7                6   31         1\n",
      "18   540  2.7                2   26         0\n",
      "19   590  2.3                3   26         0\n",
      "20   620  3.3                2   25         1\n",
      "21   600  2.0                1   24         0\n",
      "22   550  2.3                4   28         0\n",
      "23   550  2.7                1   23         0\n",
      "24   570  3.0                2   25         0\n",
      "25   670  3.3                6   29         1\n",
      "26   660  3.7                4   28         1\n",
      "27   580  2.3                2   26         0\n",
      "28   650  3.7                6   30         1\n",
      "29   760  3.3                5   30         2\n",
      "30   640  3.0                1   23         0\n",
      "31   620  2.7                2   24         0\n",
      "32   660  4.0                4   27         1\n",
      "33   660  3.3                6   29         1\n",
      "34   680  3.3                5   28         1\n",
      "35   650  2.3                1   22         0\n",
      "36   670  2.7                2   23         0\n",
      "37   580  3.3                1   24         0\n",
      "38   590  1.7                4   28         0\n",
      "39   790  3.7                5   31         2\n"
     ]
    }
   ],
   "source": [
    "candidates = {'gmat': [780,750,690,710,780,730,690,720,740,690,610,690,710,680,770,610,580,650,540,590,620,600,550,550,570,670,660,580,650,760,640,620,660,660,680,650,670,580,590,790],\n",
    "              'gpa': [4,3.9,3.3,3.7,3.9,3.7,2.3,3.3,3.3,1.7,2.7,3.7,3.7,3.3,3.3,3,2.7,3.7,2.7,2.3,3.3,2,2.3,2.7,3,3.3,3.7,2.3,3.7,3.3,3,2.7,4,3.3,3.3,2.3,2.7,3.3,1.7,3.7],\n",
    "              'work_experience': [3,4,3,5,4,6,1,4,5,1,3,5,6,4,3,1,4,6,2,3,2,1,4,1,2,6,4,2,6,5,1,2,4,6,5,1,2,1,4,5],\n",
    "              'age': [25,28,24,27,26,31,24,25,28,23,25,27,30,28,26,23,29,31,26,26,25,24,28,23,25,29,28,26,30,30,23,24,27,29,28,22,23,24,28,31],\n",
    "              'admitted': [2,2,1,2,2,2,0,2,2,0,0,2,2,1,2,0,0,1,0,0,1,0,0,0,0,1,1,0,1,2,0,0,1,1,1,0,0,0,0,2]\n",
    "              }\n",
    "\n",
    "df = pd.DataFrame(candidates, columns = ['gmat', 'gpa', 'work_experience', 'age', 'admitted'])\n",
    "print (df)"
   ]
  },
  {
   "cell_type": "code",
   "execution_count": 29,
   "metadata": {},
   "outputs": [],
   "source": [
    "# applying the random forest in python\n",
    "\n",
    "X = df[['gmat', 'gpa', 'work_experience', 'age']]\n",
    "y = df['admitted']\n"
   ]
  },
  {
   "cell_type": "code",
   "execution_count": 30,
   "metadata": {},
   "outputs": [
    {
     "name": "stdout",
     "output_type": "stream",
     "text": [
      "Features: \n",
      " \n",
      "     gmat  gpa  work_experience  age\n",
      "0    780  4.0                3   25\n",
      "1    750  3.9                4   28\n",
      "2    690  3.3                3   24\n",
      "3    710  3.7                5   27\n",
      "4    780  3.9                4   26\n",
      "5    730  3.7                6   31\n",
      "6    690  2.3                1   24\n",
      "7    720  3.3                4   25\n",
      "8    740  3.3                5   28\n",
      "9    690  1.7                1   23\n",
      "10   610  2.7                3   25\n",
      "11   690  3.7                5   27\n",
      "12   710  3.7                6   30\n",
      "13   680  3.3                4   28\n",
      "14   770  3.3                3   26\n",
      "15   610  3.0                1   23\n",
      "16   580  2.7                4   29\n",
      "17   650  3.7                6   31\n",
      "18   540  2.7                2   26\n",
      "19   590  2.3                3   26\n",
      "20   620  3.3                2   25\n",
      "21   600  2.0                1   24\n",
      "22   550  2.3                4   28\n",
      "23   550  2.7                1   23\n",
      "24   570  3.0                2   25\n",
      "25   670  3.3                6   29\n",
      "26   660  3.7                4   28\n",
      "27   580  2.3                2   26\n",
      "28   650  3.7                6   30\n",
      "29   760  3.3                5   30\n",
      "30   640  3.0                1   23\n",
      "31   620  2.7                2   24\n",
      "32   660  4.0                4   27\n",
      "33   660  3.3                6   29\n",
      "34   680  3.3                5   28\n",
      "35   650  2.3                1   22\n",
      "36   670  2.7                2   23\n",
      "37   580  3.3                1   24\n",
      "38   590  1.7                4   28\n",
      "39   790  3.7                5   31\n",
      "\n",
      " \n",
      " Target: \n",
      " \n",
      " 0     2\n",
      "1     2\n",
      "2     1\n",
      "3     2\n",
      "4     2\n",
      "5     2\n",
      "6     0\n",
      "7     2\n",
      "8     2\n",
      "9     0\n",
      "10    0\n",
      "11    2\n",
      "12    2\n",
      "13    1\n",
      "14    2\n",
      "15    0\n",
      "16    0\n",
      "17    1\n",
      "18    0\n",
      "19    0\n",
      "20    1\n",
      "21    0\n",
      "22    0\n",
      "23    0\n",
      "24    0\n",
      "25    1\n",
      "26    1\n",
      "27    0\n",
      "28    1\n",
      "29    2\n",
      "30    0\n",
      "31    0\n",
      "32    1\n",
      "33    1\n",
      "34    1\n",
      "35    0\n",
      "36    0\n",
      "37    0\n",
      "38    0\n",
      "39    2\n",
      "Name: admitted, dtype: int64\n"
     ]
    }
   ],
   "source": [
    "print ('Features: \\n \\n', X)\n",
    "\n",
    "print ('\\n \\n Target: \\n \\n', y)"
   ]
  },
  {
   "cell_type": "code",
   "execution_count": 31,
   "metadata": {},
   "outputs": [],
   "source": [
    "# splitting training and testing data\n",
    "\n",
    "X_train, X_test, y_train, y_test = train_test_split(X, y, test_size = 0.25, random_state = 0)"
   ]
  },
  {
   "cell_type": "code",
   "execution_count": 32,
   "metadata": {},
   "outputs": [],
   "source": [
    "#applying random forest classifier\n",
    "\n",
    "clf = RandomForestClassifier(n_estimators=100) # n_estimators = number of trees in the random forest\n",
    "clf.fit(X_train, y_train)\n",
    "y_pred = clf.predict(X_test)"
   ]
  },
  {
   "cell_type": "code",
   "execution_count": 33,
   "metadata": {},
   "outputs": [
    {
     "data": {
      "text/plain": [
       "<AxesSubplot:xlabel='Predicted', ylabel='Acutal'>"
      ]
     },
     "execution_count": 33,
     "metadata": {},
     "output_type": "execute_result"
    },
    {
     "data": {
      "image/png": "[encoded data removed]",
      "text/plain": [
       "<Figure size 432x288 with 2 Axes>"
      ]
     },
     "metadata": {
      "needs_background": "light"
     },
     "output_type": "display_data"
    }
   ],
   "source": [
    "# verifying the accuracy via confusion matrix\n",
    "\n",
    "conf_mat = pd.crosstab(y_test, y_pred, rownames =['Acutal'], colnames = [\"Predicted\"])\n",
    "sns.heatmap(conf_mat, annot = True)"
   ]
  },
  {
   "cell_type": "code",
   "execution_count": 45,
   "metadata": {},
   "outputs": [
    {
     "name": "stdout",
     "output_type": "stream",
     "text": [
      "Accuracy:  80.0 %\n"
     ]
    }
   ],
   "source": [
    "# getting accuracy of the model\n",
    "\n",
    "print('Accuracy: ', metrics.accuracy_score(y_test, y_pred)*100, '%')"
   ]
  },
  {
   "cell_type": "code",
   "execution_count": 49,
   "metadata": {},
   "outputs": [],
   "source": [
    "#tkinter GUI\n",
    "import tkinter as tk\n",
    "\n",
    "root = tk.Tk()\n",
    "\n",
    "canvas1 = tk.Canvas(root, width = 500, height = 350)\n",
    "canvas1.pack()\n",
    "\n",
    "#for GMAT\n",
    "label1 = tk.Label(root, text = '       GMAT:')\n",
    "canvas1.create_window(100, 100, window=label1)\n",
    "\n",
    "entry1 = tk.Entry(root)\n",
    "canvas1.create_window(270, 100, window = entry1)\n",
    "\n",
    "#for GPA\n",
    "label2 = tk.Label(root, text = 'GPA:    ')\n",
    "canvas1.create_window(120, 120, window=label2)\n",
    "\n",
    "entry2 = tk.Entry(root)\n",
    "canvas1.create_window(270, 120, window=entry2)\n",
    "\n",
    "#work_experience\n",
    "label3 = tk.Label(root, text = 'Work Experience:')\n",
    "canvas1.create_window(140, 140, window=label3)\n",
    "\n",
    "entry3 = tk.Entry(root)\n",
    "canvas1.create_window(270, 140, window=entry3)\n",
    "\n",
    "#Age input\n",
    "label4 = tk.Label(root, text = 'Age:   ')\n",
    "canvas1.create_window(160, 160, window=label4)\n",
    "\n",
    "entry4 = tk.Entry(root)\n",
    "canvas1.create_window(270, 160, window=entry4)\n",
    "\n",
    "def values():\n",
    "    global gmat\n",
    "    gmat = float(entry1.get())\n",
    "    \n",
    "    global gpa\n",
    "    gpa = float(entry2.get())\n",
    "    \n",
    "    global work_experience\n",
    "    work_experience = float(entry3.get())\n",
    "    \n",
    "    global age\n",
    "    age = float(entry4.get())\n",
    "    \n",
    "    \n",
    "    if clf.predict([[gmat, gpa, work_experience, age]]) ==2:\n",
    "        result = 'Admitted'\n",
    "        \n",
    "    if clf.predict([[gmat, gpa, work_experience, age]]) ==0:\n",
    "        result = 'Not Admitted'\n",
    "        \n",
    "    if clf.predict([[gmat, gpa, work_experience, age]]) ==1:\n",
    "        result = 'In Waiting List'\n",
    "        \n",
    "    Prediction_result = (' Predicted Result: ', result)\n",
    "    label_Prediction = tk.Label(root, text = Prediction_result, bg = 'sky blue')\n",
    "    \n",
    "    canvas1.create_window(270, 280, window = label_Prediction)\n",
    "    \n",
    "    \n",
    "button1 = tk.Button(root, text = '   Predict   ', command = values, bg = 'green', fg = 'white', font = 11)\n",
    "canvas1.create_window(270, 220, window=button1)\n",
    "\n",
    "root.mainloop()\n",
    "    \n",
    "    \n",
    "    "
   ]
  },
  {
   "cell_type": "code",
   "execution_count": null,
   "metadata": {},
   "outputs": [],
   "source": []
  }
 ],
 "metadata": {
  "kernelspec": {
   "display_name": "Python 3",
   "language": "python",
   "name": "python3"
  },
  "language_info": {
   "codemirror_mode": {
    "name": "ipython",
    "version": 3
   },
   "file_extension": ".py",
   "mimetype": "text/x-python",
   "name": "python",
   "nbconvert_exporter": "python",
   "pygments_lexer": "ipython3",
   "version": "3.7.5"
  }
 },
 "nbformat": 4,
 "nbformat_minor": 4
}
