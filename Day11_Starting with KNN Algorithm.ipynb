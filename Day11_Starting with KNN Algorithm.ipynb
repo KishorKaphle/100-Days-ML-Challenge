{
 "cells": [
  {
   "cell_type": "code",
   "execution_count": 1,
   "metadata": {},
   "outputs": [
    {
     "name": "stdout",
     "output_type": "stream",
     "text": [
      "    age  anaemia  creatinine_phosphokinase  diabetes  ejection_fraction  \\\n",
      "0  75.0        0                       582         0                 20   \n",
      "1  55.0        0                      7861         0                 38   \n",
      "2  65.0        0                       146         0                 20   \n",
      "3  50.0        1                       111         0                 20   \n",
      "4  65.0        1                       160         1                 20   \n",
      "\n",
      "   high_blood_pressure  platelets  serum_creatinine  serum_sodium  sex  \\\n",
      "0                    1  265000.00               1.9           130    1   \n",
      "1                    0  263358.03               1.1           136    1   \n",
      "2                    0  162000.00               1.3           129    1   \n",
      "3                    0  210000.00               1.9           137    1   \n",
      "4                    0  327000.00               2.7           116    0   \n",
      "\n",
      "   smoking  time  DEATH_EVENT  \n",
      "0        0     4            1  \n",
      "1        0     6            1  \n",
      "2        1     7            1  \n",
      "3        0     7            1  \n",
      "4        0     8            1  \n"
     ]
    }
   ],
   "source": [
    "#importing the data set using pandas\n",
    "\n",
    "import pandas as pd\n",
    "\n",
    "df = pd.read_csv(r\"Heart Fail Prediction.csv\")\n",
    "\n",
    "print(df.head())"
   ]
  },
  {
   "cell_type": "code",
   "execution_count": 2,
   "metadata": {},
   "outputs": [
    {
     "name": "stdout",
     "output_type": "stream",
     "text": [
      "age                             75.0\n",
      "anaemia                          0.0\n",
      "creatinine_phosphokinase       582.0\n",
      "diabetes                         0.0\n",
      "ejection_fraction               20.0\n",
      "high_blood_pressure              1.0\n",
      "platelets                   265000.0\n",
      "serum_creatinine                 1.9\n",
      "serum_sodium                   130.0\n",
      "sex                              1.0\n",
      "smoking                          0.0\n",
      "time                             4.0\n",
      "DEATH_EVENT                      1.0\n",
      "Name: 0, dtype: float64\n"
     ]
    }
   ],
   "source": [
    "#displaying feature name\n",
    "print(df.iloc[0,:])"
   ]
  },
  {
   "cell_type": "code",
   "execution_count": 3,
   "metadata": {},
   "outputs": [],
   "source": [
    "features = ['age', 'anaemia', 'creatinine_phosphokinase', 'diabetes', 'ejection_fraction', 'high_blood_pressure', 'platelets', \n",
    "           'serum_creatinine', 'serum_sodium', 'sex', 'smoking', 'time']\n",
    "X = df [features]\n",
    "y = df ['DEATH_EVENT']"
   ]
  },
  {
   "cell_type": "code",
   "execution_count": 4,
   "metadata": {},
   "outputs": [],
   "source": [
    "# let's first implement KNN algorithm with doing feature selection and lets see what it result in.\n",
    "\n",
    "# spliting training and testing data\n",
    "\n",
    "from sklearn.model_selection import train_test_split\n",
    "\n",
    "X_train, X_test, y_train, y_test = train_test_split(X, y, test_size = 0.3)\n",
    "\n"
   ]
  },
  {
   "cell_type": "code",
   "execution_count": 5,
   "metadata": {},
   "outputs": [],
   "source": [
    "#since features = 12, so first we are going to generate model for k = 13\n",
    "\n",
    "from sklearn.neighbors import KNeighborsClassifier\n",
    "\n",
    "classifier = KNeighborsClassifier(n_neighbors = 13)\n",
    "\n",
    "\n",
    "# training the model using the training sets\n",
    "\n",
    "classifier.fit(X_train, y_train)\n",
    "\n",
    "#predicting output\n",
    "\n",
    "y_pred = classifier.predict(X_test)\n"
   ]
  },
  {
   "cell_type": "code",
   "execution_count": 6,
   "metadata": {},
   "outputs": [
    {
     "name": "stdout",
     "output_type": "stream",
     "text": [
      "[0 0 0 0 0 1 0 0 0 0 0 0 0 0 0 0 0 0 0 0 0 0 0 0 1 0 0 0 0 0 0 0 0 0 0 0 0\n",
      " 0 0 0 0 0 0 0 0 0 0 0 0 0 0 0 0 0 1 0 0 0 0 0 0 0 0 0 0 1 0 0 0 0 0 0 0 0\n",
      " 0 0 0 0 0 0 0 0 0 0 0 0 0 0 0 0]\n"
     ]
    }
   ],
   "source": [
    "print(y_pred)"
   ]
  },
  {
   "cell_type": "code",
   "execution_count": 7,
   "metadata": {},
   "outputs": [
    {
     "name": "stdout",
     "output_type": "stream",
     "text": [
      "accuracy:  0.7\n"
     ]
    }
   ],
   "source": [
    "#lets do model evaluation\n",
    "from sklearn import metrics\n",
    "\n",
    "print(\"accuracy: \", metrics.accuracy_score(y_test, y_pred))"
   ]
  },
  {
   "cell_type": "code",
   "execution_count": 8,
   "metadata": {},
   "outputs": [
    {
     "name": "stdout",
     "output_type": "stream",
     "text": [
      "acuuracy [0.5111111111111111, 0.7, 0.5666666666666667, 0.6888888888888889, 0.6333333333333333, 0.7, 0.6555555555555556, 0.6555555555555556, 0.6333333333333333, 0.7, 0.6777777777777778, 0.6888888888888889, 0.7, 0.7111111111111111, 0.7, 0.6888888888888889, 0.7, 0.6888888888888889, 0.7111111111111111, 0.6888888888888889]\n",
      "\n",
      " value of k [1, 2, 3, 4, 5, 6, 7, 8, 9, 10, 11, 12, 13, 14, 15, 16, 17, 18, 19, 20]\n"
     ]
    }
   ],
   "source": [
    "# lets see how value of k effects the accuracy\n",
    "\n",
    "ac = []\n",
    "k = []\n",
    "for i in range (20):\n",
    "    i+=1\n",
    "    classifier = KNeighborsClassifier(n_neighbors = i)\n",
    "\n",
    "\n",
    "    # training the model using the training sets\n",
    "\n",
    "    classifier.fit(X_train, y_train)\n",
    "\n",
    "    #predicting output\n",
    "    k.append(i)\n",
    "    y_pred = classifier.predict(X_test)\n",
    "    \n",
    "    accurt = metrics.accuracy_score(y_test, y_pred)\n",
    "\n",
    "    ac.append(accurt)\n",
    "    \n",
    "print('acuuracy', ac)\n",
    "\n",
    "print('\\n value of k', k)\n",
    "    "
   ]
  },
  {
   "cell_type": "code",
   "execution_count": 9,
   "metadata": {},
   "outputs": [
    {
     "name": "stdout",
     "output_type": "stream",
     "text": [
      "accuracy:  0.7\n"
     ]
    }
   ],
   "source": [
    "# we see that maximum accuracy is 66.66% and at corresponding value of 10 & 11\n",
    "\n",
    "# let's see it again with k = 10\n",
    "\n",
    "classifier = KNeighborsClassifier(n_neighbors = 10)\n",
    "\n",
    "\n",
    "# training the model using the training sets\n",
    "\n",
    "classifier.fit(X_train, y_train)\n",
    "\n",
    "#predicting output\n",
    "\n",
    "y_pred = classifier.predict(X_test)\n",
    "\n",
    "print(\"accuracy: \", metrics.accuracy_score(y_test, y_pred))"
   ]
  },
  {
   "cell_type": "code",
   "execution_count": 10,
   "metadata": {},
   "outputs": [
    {
     "name": "stdout",
     "output_type": "stream",
     "text": [
      "\n",
      " 6 Best Features are: \n",
      " \n",
      "               specifications         score\n",
      "6                  platelets  26135.771990\n",
      "11                      time   3826.892661\n",
      "2   creatinine_phosphokinase   1897.314839\n",
      "4          ejection_fraction     79.072541\n",
      "0                        age     44.619455\n",
      "7           serum_creatinine     19.814118\n"
     ]
    }
   ],
   "source": [
    "# now lets try to improve the performance of the model by doing feature selection\n",
    "\n",
    "from sklearn.feature_selection import SelectKBest\n",
    "from sklearn.feature_selection import chi2\n",
    "\n",
    "bestfeatures = SelectKBest(score_func = chi2, k = 6)\n",
    "fit = bestfeatures.fit(X, y) #applying the chi2 rule\n",
    "dfcolumns = pd.DataFrame(X.columns)\n",
    "dfscores = pd.DataFrame(fit.scores_)\n",
    "\n",
    "#for better visualization, concatinating two dataframes\n",
    "\n",
    "featureScores = pd.concat([dfcolumns, dfscores], axis=1)\n",
    "featureScores.columns = ['specifications', 'score'] # naming the dataframe columns\n",
    "print('\\n 6 Best Features are: \\n \\n', featureScores.nlargest(6, 'score')) # printig best 6 features"
   ]
  },
  {
   "cell_type": "code",
   "execution_count": 11,
   "metadata": {},
   "outputs": [
    {
     "name": "stdout",
     "output_type": "stream",
     "text": [
      "     platelets  creatinine_phosphokinase  ejection_fraction   age\n",
      "0    265000.00                       582                 20  75.0\n",
      "1    263358.03                      7861                 38  55.0\n",
      "2    162000.00                       146                 20  65.0\n",
      "3    210000.00                       111                 20  50.0\n",
      "4    327000.00                       160                 20  65.0\n",
      "..         ...                       ...                ...   ...\n",
      "294  155000.00                        61                 38  62.0\n",
      "295  270000.00                      1820                 38  55.0\n",
      "296  742000.00                      2060                 60  45.0\n",
      "297  140000.00                      2413                 38  45.0\n",
      "298  395000.00                       196                 45  50.0\n",
      "\n",
      "[299 rows x 4 columns]\n"
     ]
    }
   ],
   "source": [
    "#selecting features with index 6, 11, 2, 4, and 0..opps! lets not keep time as a feature\n",
    "\n",
    "features = ['platelets', 'creatinine_phosphokinase', 'ejection_fraction', 'age']\n",
    "X = df[features]\n",
    "# y is already defined, no need to change it here\n",
    "\n",
    "print(X)\n"
   ]
  },
  {
   "cell_type": "code",
   "execution_count": 12,
   "metadata": {},
   "outputs": [],
   "source": [
    "# now lets use KNN modle with above data\n",
    "\n",
    "# spliting training and testing data\n",
    "\n",
    "from sklearn.model_selection import train_test_split\n",
    "\n",
    "X_train, X_test, y_train, y_test = train_test_split(X, y, test_size = 0.3)\n",
    "\n"
   ]
  },
  {
   "cell_type": "code",
   "execution_count": 13,
   "metadata": {},
   "outputs": [
    {
     "name": "stdout",
     "output_type": "stream",
     "text": [
      "acuuracy [0.5888888888888889, 0.6, 0.5555555555555556, 0.5777777777777777, 0.5444444444444444, 0.6111111111111112, 0.5777777777777777, 0.5777777777777777, 0.5555555555555556, 0.5888888888888889, 0.6, 0.6111111111111112, 0.6, 0.6, 0.5888888888888889, 0.6111111111111112, 0.6222222222222222, 0.6222222222222222, 0.6222222222222222, 0.6333333333333333, 0.6333333333333333, 0.6222222222222222, 0.6222222222222222, 0.6222222222222222, 0.6222222222222222, 0.6222222222222222, 0.6222222222222222, 0.6222222222222222, 0.6222222222222222, 0.6222222222222222]\n",
      "\n",
      " value of k [1, 2, 3, 4, 5, 6, 7, 8, 9, 10, 11, 12, 13, 14, 15, 16, 17, 18, 19, 20, 21, 22, 23, 24, 25, 26, 27, 28, 29, 30]\n"
     ]
    }
   ],
   "source": [
    "# lets see how value of k effects the accuracy\n",
    "\n",
    "ac = []\n",
    "k = []\n",
    "for i in range (30):\n",
    "    i+=1\n",
    "    classifier = KNeighborsClassifier(n_neighbors = i)\n",
    "\n",
    "\n",
    "    # training the model using the training sets\n",
    "\n",
    "    classifier.fit(X_train, y_train)\n",
    "\n",
    "    #predicting output\n",
    "    k.append(i)\n",
    "    y_pred = classifier.predict(X_test)\n",
    "    \n",
    "    accurt = metrics.accuracy_score(y_test, y_pred)\n",
    "\n",
    "    ac.append(accurt)\n",
    "    \n",
    "print('acuuracy', ac)\n",
    "\n",
    "print('\\n value of k', k)\n",
    "    "
   ]
  },
  {
   "cell_type": "code",
   "execution_count": 14,
   "metadata": {},
   "outputs": [
    {
     "data": {
      "image/png": "[encoded data removed]",
      "text/plain": [
       "<Figure size 432x288 with 1 Axes>"
      ]
     },
     "metadata": {
      "needs_background": "light"
     },
     "output_type": "display_data"
    }
   ],
   "source": [
    "# plotting accuracy vs k-value\n",
    "\n",
    "import matplotlib.pyplot as plt\n",
    "\n",
    "plt.plot(k, ac)\n",
    "plt.xlabel('value of k')\n",
    "plt.ylabel('accuracy')\n",
    "plt.show()"
   ]
  },
  {
   "cell_type": "code",
   "execution_count": 15,
   "metadata": {},
   "outputs": [
    {
     "name": "stdout",
     "output_type": "stream",
     "text": [
      "accuracy:  0.5888888888888889\n"
     ]
    }
   ],
   "source": [
    "# lets keep k = 10\n",
    "\n",
    "classifier = KNeighborsClassifier(n_neighbors = 10)\n",
    "\n",
    "\n",
    "# training the model using the training sets\n",
    "\n",
    "classifier.fit(X_train, y_train)\n",
    "\n",
    "#predicting output\n",
    "\n",
    "y_pred = classifier.predict(X_test)\n",
    "\n",
    "print(\"accuracy: \", metrics.accuracy_score(y_test, y_pred))\n",
    "\n"
   ]
  },
  {
   "cell_type": "code",
   "execution_count": 16,
   "metadata": {},
   "outputs": [
    {
     "name": "stdout",
     "output_type": "stream",
     "text": [
      "     platelets  creatinine_phosphokinase  ejection_fraction   age\n",
      "0    265000.00                       582                 20  75.0\n",
      "1    263358.03                      7861                 38  55.0\n",
      "2    162000.00                       146                 20  65.0\n",
      "3    210000.00                       111                 20  50.0\n",
      "4    327000.00                       160                 20  65.0\n",
      "..         ...                       ...                ...   ...\n",
      "294  155000.00                        61                 38  62.0\n",
      "295  270000.00                      1820                 38  55.0\n",
      "296  742000.00                      2060                 60  45.0\n",
      "297  140000.00                      2413                 38  45.0\n",
      "298  395000.00                       196                 45  50.0\n",
      "\n",
      "[299 rows x 4 columns]\n"
     ]
    }
   ],
   "source": [
    "# hmm! not good accuracy! lets look more detaily into the data set again to see what is wrong with it\n",
    "\n",
    "print(X)"
   ]
  },
  {
   "cell_type": "code",
   "execution_count": 17,
   "metadata": {},
   "outputs": [
    {
     "data": {
      "text/plain": [
       "<AxesSubplot:xlabel='age'>"
      ]
     },
     "execution_count": 17,
     "metadata": {},
     "output_type": "execute_result"
    },
    {
     "data": {
      "image/png": "[encoded data removed]",
      "text/plain": [
       "<Figure size 432x288 with 1 Axes>"
      ]
     },
     "metadata": {
      "needs_background": "light"
     },
     "output_type": "display_data"
    }
   ],
   "source": [
    "# box plotting\n",
    "\n",
    "import seaborn as sns\n",
    "sns.boxplot(x = df['age'])"
   ]
  },
  {
   "cell_type": "code",
   "execution_count": 18,
   "metadata": {},
   "outputs": [],
   "source": [
    "# no proble with age"
   ]
  },
  {
   "cell_type": "code",
   "execution_count": 19,
   "metadata": {},
   "outputs": [
    {
     "data": {
      "text/plain": [
       "<AxesSubplot:xlabel='platelets'>"
      ]
     },
     "execution_count": 19,
     "metadata": {},
     "output_type": "execute_result"
    },
    {
     "data": {
      "image/png": "[encoded data removed]",
      "text/plain": [
       "<Figure size 432x288 with 1 Axes>"
      ]
     },
     "metadata": {
      "needs_background": "light"
     },
     "output_type": "display_data"
    }
   ],
   "source": [
    "sns.boxplot(x = df['platelets'])"
   ]
  },
  {
   "cell_type": "code",
   "execution_count": 20,
   "metadata": {},
   "outputs": [
    {
     "data": {
      "text/html": [
       "<div>\n",
       "<style scoped>\n",
       "    .dataframe tbody tr th:only-of-type {\n",
       "        vertical-align: middle;\n",
       "    }\n",
       "\n",
       "    .dataframe tbody tr th {\n",
       "        vertical-align: top;\n",
       "    }\n",
       "\n",
       "    .dataframe thead th {\n",
       "        text-align: right;\n",
       "    }\n",
       "</style>\n",
       "<table border=\"1\" class=\"dataframe\">\n",
       "  <thead>\n",
       "    <tr style=\"text-align: right;\">\n",
       "      <th></th>\n",
       "      <th>age</th>\n",
       "      <th>anaemia</th>\n",
       "      <th>creatinine_phosphokinase</th>\n",
       "      <th>diabetes</th>\n",
       "      <th>ejection_fraction</th>\n",
       "      <th>high_blood_pressure</th>\n",
       "      <th>platelets</th>\n",
       "      <th>serum_creatinine</th>\n",
       "      <th>serum_sodium</th>\n",
       "      <th>sex</th>\n",
       "      <th>smoking</th>\n",
       "      <th>time</th>\n",
       "      <th>DEATH_EVENT</th>\n",
       "    </tr>\n",
       "  </thead>\n",
       "  <tbody>\n",
       "    <tr>\n",
       "      <th>105</th>\n",
       "      <td>72.0</td>\n",
       "      <td>1</td>\n",
       "      <td>328</td>\n",
       "      <td>0</td>\n",
       "      <td>30</td>\n",
       "      <td>1</td>\n",
       "      <td>621000.0</td>\n",
       "      <td>1.7</td>\n",
       "      <td>138</td>\n",
       "      <td>0</td>\n",
       "      <td>1</td>\n",
       "      <td>88</td>\n",
       "      <td>1</td>\n",
       "    </tr>\n",
       "    <tr>\n",
       "      <th>109</th>\n",
       "      <td>45.0</td>\n",
       "      <td>0</td>\n",
       "      <td>292</td>\n",
       "      <td>1</td>\n",
       "      <td>35</td>\n",
       "      <td>0</td>\n",
       "      <td>850000.0</td>\n",
       "      <td>1.3</td>\n",
       "      <td>142</td>\n",
       "      <td>1</td>\n",
       "      <td>1</td>\n",
       "      <td>88</td>\n",
       "      <td>0</td>\n",
       "    </tr>\n",
       "    <tr>\n",
       "      <th>117</th>\n",
       "      <td>85.0</td>\n",
       "      <td>1</td>\n",
       "      <td>102</td>\n",
       "      <td>0</td>\n",
       "      <td>60</td>\n",
       "      <td>0</td>\n",
       "      <td>507000.0</td>\n",
       "      <td>3.2</td>\n",
       "      <td>138</td>\n",
       "      <td>0</td>\n",
       "      <td>0</td>\n",
       "      <td>94</td>\n",
       "      <td>0</td>\n",
       "    </tr>\n",
       "    <tr>\n",
       "      <th>224</th>\n",
       "      <td>58.0</td>\n",
       "      <td>0</td>\n",
       "      <td>582</td>\n",
       "      <td>1</td>\n",
       "      <td>25</td>\n",
       "      <td>0</td>\n",
       "      <td>504000.0</td>\n",
       "      <td>1.0</td>\n",
       "      <td>138</td>\n",
       "      <td>1</td>\n",
       "      <td>0</td>\n",
       "      <td>205</td>\n",
       "      <td>0</td>\n",
       "    </tr>\n",
       "    <tr>\n",
       "      <th>240</th>\n",
       "      <td>70.0</td>\n",
       "      <td>0</td>\n",
       "      <td>81</td>\n",
       "      <td>1</td>\n",
       "      <td>35</td>\n",
       "      <td>1</td>\n",
       "      <td>533000.0</td>\n",
       "      <td>1.3</td>\n",
       "      <td>139</td>\n",
       "      <td>0</td>\n",
       "      <td>0</td>\n",
       "      <td>212</td>\n",
       "      <td>0</td>\n",
       "    </tr>\n",
       "    <tr>\n",
       "      <th>287</th>\n",
       "      <td>45.0</td>\n",
       "      <td>0</td>\n",
       "      <td>582</td>\n",
       "      <td>1</td>\n",
       "      <td>55</td>\n",
       "      <td>0</td>\n",
       "      <td>543000.0</td>\n",
       "      <td>1.0</td>\n",
       "      <td>132</td>\n",
       "      <td>0</td>\n",
       "      <td>0</td>\n",
       "      <td>250</td>\n",
       "      <td>0</td>\n",
       "    </tr>\n",
       "    <tr>\n",
       "      <th>296</th>\n",
       "      <td>45.0</td>\n",
       "      <td>0</td>\n",
       "      <td>2060</td>\n",
       "      <td>1</td>\n",
       "      <td>60</td>\n",
       "      <td>0</td>\n",
       "      <td>742000.0</td>\n",
       "      <td>0.8</td>\n",
       "      <td>138</td>\n",
       "      <td>0</td>\n",
       "      <td>0</td>\n",
       "      <td>278</td>\n",
       "      <td>0</td>\n",
       "    </tr>\n",
       "  </tbody>\n",
       "</table>\n",
       "</div>"
      ],
      "text/plain": [
       "      age  anaemia  creatinine_phosphokinase  diabetes  ejection_fraction  \\\n",
       "105  72.0        1                       328         0                 30   \n",
       "109  45.0        0                       292         1                 35   \n",
       "117  85.0        1                       102         0                 60   \n",
       "224  58.0        0                       582         1                 25   \n",
       "240  70.0        0                        81         1                 35   \n",
       "287  45.0        0                       582         1                 55   \n",
       "296  45.0        0                      2060         1                 60   \n",
       "\n",
       "     high_blood_pressure  platelets  serum_creatinine  serum_sodium  sex  \\\n",
       "105                    1   621000.0               1.7           138    0   \n",
       "109                    0   850000.0               1.3           142    1   \n",
       "117                    0   507000.0               3.2           138    0   \n",
       "224                    0   504000.0               1.0           138    1   \n",
       "240                    1   533000.0               1.3           139    0   \n",
       "287                    0   543000.0               1.0           132    0   \n",
       "296                    0   742000.0               0.8           138    0   \n",
       "\n",
       "     smoking  time  DEATH_EVENT  \n",
       "105        1    88            1  \n",
       "109        1    88            0  \n",
       "117        0    94            0  \n",
       "224        0   205            0  \n",
       "240        0   212            0  \n",
       "287        0   250            0  \n",
       "296        0   278            0  "
      ]
     },
     "execution_count": 20,
     "metadata": {},
     "output_type": "execute_result"
    }
   ],
   "source": [
    "# lets remove outliers reasonably\n",
    "df[df['platelets']>500000]"
   ]
  },
  {
   "cell_type": "code",
   "execution_count": 21,
   "metadata": {},
   "outputs": [],
   "source": [
    "# lets remove them\n",
    "\n",
    "df= df[df['platelets']<500000]"
   ]
  },
  {
   "cell_type": "code",
   "execution_count": 22,
   "metadata": {},
   "outputs": [
    {
     "data": {
      "text/html": [
       "<div>\n",
       "<style scoped>\n",
       "    .dataframe tbody tr th:only-of-type {\n",
       "        vertical-align: middle;\n",
       "    }\n",
       "\n",
       "    .dataframe tbody tr th {\n",
       "        vertical-align: top;\n",
       "    }\n",
       "\n",
       "    .dataframe thead th {\n",
       "        text-align: right;\n",
       "    }\n",
       "</style>\n",
       "<table border=\"1\" class=\"dataframe\">\n",
       "  <thead>\n",
       "    <tr style=\"text-align: right;\">\n",
       "      <th></th>\n",
       "      <th>age</th>\n",
       "      <th>anaemia</th>\n",
       "      <th>creatinine_phosphokinase</th>\n",
       "      <th>diabetes</th>\n",
       "      <th>ejection_fraction</th>\n",
       "      <th>high_blood_pressure</th>\n",
       "      <th>platelets</th>\n",
       "      <th>serum_creatinine</th>\n",
       "      <th>serum_sodium</th>\n",
       "      <th>sex</th>\n",
       "      <th>smoking</th>\n",
       "      <th>time</th>\n",
       "      <th>DEATH_EVENT</th>\n",
       "    </tr>\n",
       "  </thead>\n",
       "  <tbody>\n",
       "  </tbody>\n",
       "</table>\n",
       "</div>"
      ],
      "text/plain": [
       "Empty DataFrame\n",
       "Columns: [age, anaemia, creatinine_phosphokinase, diabetes, ejection_fraction, high_blood_pressure, platelets, serum_creatinine, serum_sodium, sex, smoking, time, DEATH_EVENT]\n",
       "Index: []"
      ]
     },
     "execution_count": 22,
     "metadata": {},
     "output_type": "execute_result"
    }
   ],
   "source": [
    "#checking again\n",
    "df[df['platelets']>500000]"
   ]
  },
  {
   "cell_type": "code",
   "execution_count": 23,
   "metadata": {},
   "outputs": [
    {
     "data": {
      "text/plain": [
       "<AxesSubplot:xlabel='creatinine_phosphokinase'>"
      ]
     },
     "execution_count": 23,
     "metadata": {},
     "output_type": "execute_result"
    },
    {
     "data": {
      "image/png": "[encoded data removed]",
      "text/plain": [
       "<Figure size 432x288 with 1 Axes>"
      ]
     },
     "metadata": {
      "needs_background": "light"
     },
     "output_type": "display_data"
    }
   ],
   "source": [
    "# we are good so far!\n",
    "\n",
    "# lets look into creatinine_phosphokinase\n",
    "\n",
    "sns.boxplot(x = df['creatinine_phosphokinase'])"
   ]
  },
  {
   "cell_type": "code",
   "execution_count": 24,
   "metadata": {},
   "outputs": [
    {
     "data": {
      "text/html": [
       "<div>\n",
       "<style scoped>\n",
       "    .dataframe tbody tr th:only-of-type {\n",
       "        vertical-align: middle;\n",
       "    }\n",
       "\n",
       "    .dataframe tbody tr th {\n",
       "        vertical-align: top;\n",
       "    }\n",
       "\n",
       "    .dataframe thead th {\n",
       "        text-align: right;\n",
       "    }\n",
       "</style>\n",
       "<table border=\"1\" class=\"dataframe\">\n",
       "  <thead>\n",
       "    <tr style=\"text-align: right;\">\n",
       "      <th></th>\n",
       "      <th>age</th>\n",
       "      <th>anaemia</th>\n",
       "      <th>creatinine_phosphokinase</th>\n",
       "      <th>diabetes</th>\n",
       "      <th>ejection_fraction</th>\n",
       "      <th>high_blood_pressure</th>\n",
       "      <th>platelets</th>\n",
       "      <th>serum_creatinine</th>\n",
       "      <th>serum_sodium</th>\n",
       "      <th>sex</th>\n",
       "      <th>smoking</th>\n",
       "      <th>time</th>\n",
       "      <th>DEATH_EVENT</th>\n",
       "    </tr>\n",
       "  </thead>\n",
       "  <tbody>\n",
       "    <tr>\n",
       "      <th>1</th>\n",
       "      <td>55.0</td>\n",
       "      <td>0</td>\n",
       "      <td>7861</td>\n",
       "      <td>0</td>\n",
       "      <td>38</td>\n",
       "      <td>0</td>\n",
       "      <td>263358.03</td>\n",
       "      <td>1.10</td>\n",
       "      <td>136</td>\n",
       "      <td>1</td>\n",
       "      <td>0</td>\n",
       "      <td>6</td>\n",
       "      <td>1</td>\n",
       "    </tr>\n",
       "    <tr>\n",
       "      <th>52</th>\n",
       "      <td>60.0</td>\n",
       "      <td>0</td>\n",
       "      <td>3964</td>\n",
       "      <td>1</td>\n",
       "      <td>62</td>\n",
       "      <td>0</td>\n",
       "      <td>263358.03</td>\n",
       "      <td>6.80</td>\n",
       "      <td>146</td>\n",
       "      <td>0</td>\n",
       "      <td>0</td>\n",
       "      <td>43</td>\n",
       "      <td>1</td>\n",
       "    </tr>\n",
       "    <tr>\n",
       "      <th>60</th>\n",
       "      <td>45.0</td>\n",
       "      <td>0</td>\n",
       "      <td>7702</td>\n",
       "      <td>1</td>\n",
       "      <td>25</td>\n",
       "      <td>1</td>\n",
       "      <td>390000.00</td>\n",
       "      <td>1.00</td>\n",
       "      <td>139</td>\n",
       "      <td>1</td>\n",
       "      <td>0</td>\n",
       "      <td>60</td>\n",
       "      <td>1</td>\n",
       "    </tr>\n",
       "    <tr>\n",
       "      <th>72</th>\n",
       "      <td>85.0</td>\n",
       "      <td>0</td>\n",
       "      <td>5882</td>\n",
       "      <td>0</td>\n",
       "      <td>35</td>\n",
       "      <td>0</td>\n",
       "      <td>243000.00</td>\n",
       "      <td>1.00</td>\n",
       "      <td>132</td>\n",
       "      <td>1</td>\n",
       "      <td>1</td>\n",
       "      <td>72</td>\n",
       "      <td>1</td>\n",
       "    </tr>\n",
       "    <tr>\n",
       "      <th>103</th>\n",
       "      <td>42.0</td>\n",
       "      <td>0</td>\n",
       "      <td>5209</td>\n",
       "      <td>0</td>\n",
       "      <td>30</td>\n",
       "      <td>0</td>\n",
       "      <td>226000.00</td>\n",
       "      <td>1.00</td>\n",
       "      <td>140</td>\n",
       "      <td>1</td>\n",
       "      <td>1</td>\n",
       "      <td>87</td>\n",
       "      <td>0</td>\n",
       "    </tr>\n",
       "    <tr>\n",
       "      <th>134</th>\n",
       "      <td>81.0</td>\n",
       "      <td>0</td>\n",
       "      <td>4540</td>\n",
       "      <td>0</td>\n",
       "      <td>35</td>\n",
       "      <td>0</td>\n",
       "      <td>231000.00</td>\n",
       "      <td>1.18</td>\n",
       "      <td>137</td>\n",
       "      <td>1</td>\n",
       "      <td>1</td>\n",
       "      <td>107</td>\n",
       "      <td>0</td>\n",
       "    </tr>\n",
       "    <tr>\n",
       "      <th>171</th>\n",
       "      <td>52.0</td>\n",
       "      <td>0</td>\n",
       "      <td>3966</td>\n",
       "      <td>0</td>\n",
       "      <td>40</td>\n",
       "      <td>0</td>\n",
       "      <td>325000.00</td>\n",
       "      <td>0.90</td>\n",
       "      <td>140</td>\n",
       "      <td>1</td>\n",
       "      <td>1</td>\n",
       "      <td>146</td>\n",
       "      <td>0</td>\n",
       "    </tr>\n",
       "  </tbody>\n",
       "</table>\n",
       "</div>"
      ],
      "text/plain": [
       "      age  anaemia  creatinine_phosphokinase  diabetes  ejection_fraction  \\\n",
       "1    55.0        0                      7861         0                 38   \n",
       "52   60.0        0                      3964         1                 62   \n",
       "60   45.0        0                      7702         1                 25   \n",
       "72   85.0        0                      5882         0                 35   \n",
       "103  42.0        0                      5209         0                 30   \n",
       "134  81.0        0                      4540         0                 35   \n",
       "171  52.0        0                      3966         0                 40   \n",
       "\n",
       "     high_blood_pressure  platelets  serum_creatinine  serum_sodium  sex  \\\n",
       "1                      0  263358.03              1.10           136    1   \n",
       "52                     0  263358.03              6.80           146    0   \n",
       "60                     1  390000.00              1.00           139    1   \n",
       "72                     0  243000.00              1.00           132    1   \n",
       "103                    0  226000.00              1.00           140    1   \n",
       "134                    0  231000.00              1.18           137    1   \n",
       "171                    0  325000.00              0.90           140    1   \n",
       "\n",
       "     smoking  time  DEATH_EVENT  \n",
       "1          0     6            1  \n",
       "52         0    43            1  \n",
       "60         0    60            1  \n",
       "72         1    72            1  \n",
       "103        1    87            0  \n",
       "134        1   107            0  \n",
       "171        1   146            0  "
      ]
     },
     "execution_count": 24,
     "metadata": {},
     "output_type": "execute_result"
    }
   ],
   "source": [
    "# much more outliers\n",
    "df[df['creatinine_phosphokinase']>3000]"
   ]
  },
  {
   "cell_type": "code",
   "execution_count": 25,
   "metadata": {},
   "outputs": [],
   "source": [
    "# lets remove them\n",
    "df = df[df['creatinine_phosphokinase']<3000]"
   ]
  },
  {
   "cell_type": "code",
   "execution_count": 26,
   "metadata": {},
   "outputs": [
    {
     "data": {
      "text/plain": [
       "<AxesSubplot:xlabel='creatinine_phosphokinase'>"
      ]
     },
     "execution_count": 26,
     "metadata": {},
     "output_type": "execute_result"
    },
    {
     "data": {
      "image/png": "[encoded data removed]",
      "text/plain": [
       "<Figure size 432x288 with 1 Axes>"
      ]
     },
     "metadata": {
      "needs_background": "light"
     },
     "output_type": "display_data"
    }
   ],
   "source": [
    "# now lets check again\n",
    "\n",
    "sns.boxplot(x = df['creatinine_phosphokinase'])\n"
   ]
  },
  {
   "cell_type": "code",
   "execution_count": 27,
   "metadata": {},
   "outputs": [],
   "source": [
    "# hmm! seems more outlier but as they are in large number, probably they are not outlier at all in the practical data, so let them how they are\n"
   ]
  },
  {
   "cell_type": "code",
   "execution_count": 28,
   "metadata": {},
   "outputs": [
    {
     "data": {
      "text/plain": [
       "<AxesSubplot:xlabel='ejection_fraction'>"
      ]
     },
     "execution_count": 28,
     "metadata": {},
     "output_type": "execute_result"
    },
    {
     "data": {
      "image/png": "[encoded data removed]",
      "text/plain": [
       "<Figure size 432x288 with 1 Axes>"
      ]
     },
     "metadata": {
      "needs_background": "light"
     },
     "output_type": "display_data"
    }
   ],
   "source": [
    "# for ejection_fraction\n",
    "\n",
    "sns.boxplot(df['ejection_fraction'])"
   ]
  },
  {
   "cell_type": "code",
   "execution_count": 29,
   "metadata": {},
   "outputs": [
    {
     "data": {
      "text/html": [
       "<div>\n",
       "<style scoped>\n",
       "    .dataframe tbody tr th:only-of-type {\n",
       "        vertical-align: middle;\n",
       "    }\n",
       "\n",
       "    .dataframe tbody tr th {\n",
       "        vertical-align: top;\n",
       "    }\n",
       "\n",
       "    .dataframe thead th {\n",
       "        text-align: right;\n",
       "    }\n",
       "</style>\n",
       "<table border=\"1\" class=\"dataframe\">\n",
       "  <thead>\n",
       "    <tr style=\"text-align: right;\">\n",
       "      <th></th>\n",
       "      <th>age</th>\n",
       "      <th>anaemia</th>\n",
       "      <th>creatinine_phosphokinase</th>\n",
       "      <th>diabetes</th>\n",
       "      <th>ejection_fraction</th>\n",
       "      <th>high_blood_pressure</th>\n",
       "      <th>platelets</th>\n",
       "      <th>serum_creatinine</th>\n",
       "      <th>serum_sodium</th>\n",
       "      <th>sex</th>\n",
       "      <th>smoking</th>\n",
       "      <th>time</th>\n",
       "      <th>DEATH_EVENT</th>\n",
       "    </tr>\n",
       "  </thead>\n",
       "  <tbody>\n",
       "    <tr>\n",
       "      <th>64</th>\n",
       "      <td>45.0</td>\n",
       "      <td>0</td>\n",
       "      <td>582</td>\n",
       "      <td>0</td>\n",
       "      <td>80</td>\n",
       "      <td>0</td>\n",
       "      <td>263358.03</td>\n",
       "      <td>1.18</td>\n",
       "      <td>137</td>\n",
       "      <td>0</td>\n",
       "      <td>0</td>\n",
       "      <td>63</td>\n",
       "      <td>0</td>\n",
       "    </tr>\n",
       "    <tr>\n",
       "      <th>217</th>\n",
       "      <td>54.0</td>\n",
       "      <td>1</td>\n",
       "      <td>427</td>\n",
       "      <td>0</td>\n",
       "      <td>70</td>\n",
       "      <td>1</td>\n",
       "      <td>151000.00</td>\n",
       "      <td>9.00</td>\n",
       "      <td>137</td>\n",
       "      <td>0</td>\n",
       "      <td>0</td>\n",
       "      <td>196</td>\n",
       "      <td>1</td>\n",
       "    </tr>\n",
       "  </tbody>\n",
       "</table>\n",
       "</div>"
      ],
      "text/plain": [
       "      age  anaemia  creatinine_phosphokinase  diabetes  ejection_fraction  \\\n",
       "64   45.0        0                       582         0                 80   \n",
       "217  54.0        1                       427         0                 70   \n",
       "\n",
       "     high_blood_pressure  platelets  serum_creatinine  serum_sodium  sex  \\\n",
       "64                     0  263358.03              1.18           137    0   \n",
       "217                    1  151000.00              9.00           137    0   \n",
       "\n",
       "     smoking  time  DEATH_EVENT  \n",
       "64         0    63            0  \n",
       "217        0   196            1  "
      ]
     },
     "execution_count": 29,
     "metadata": {},
     "output_type": "execute_result"
    }
   ],
   "source": [
    "# lets remove outliers\n",
    "\n",
    "df[df['ejection_fraction']>=70]"
   ]
  },
  {
   "cell_type": "code",
   "execution_count": 30,
   "metadata": {},
   "outputs": [],
   "source": [
    "# lets remove them\n",
    "df = df[df['ejection_fraction']<70]"
   ]
  },
  {
   "cell_type": "code",
   "execution_count": 31,
   "metadata": {},
   "outputs": [
    {
     "data": {
      "text/plain": [
       "<AxesSubplot:xlabel='ejection_fraction'>"
      ]
     },
     "execution_count": 31,
     "metadata": {},
     "output_type": "execute_result"
    },
    {
     "data": {
      "image/png": "[encoded data removed]",
      "text/plain": [
       "<Figure size 432x288 with 1 Axes>"
      ]
     },
     "metadata": {
      "needs_background": "light"
     },
     "output_type": "display_data"
    }
   ],
   "source": [
    "# lets cross check\n",
    "sns.boxplot(df['ejection_fraction'])"
   ]
  },
  {
   "cell_type": "code",
   "execution_count": 33,
   "metadata": {},
   "outputs": [],
   "source": [
    "#we are good here! and we are done in data cleaning part\n",
    "\n",
    "# checking the accuracy again of the KNN model\n",
    "\n",
    "# spliting training and testing data\n",
    "\n",
    "from sklearn.model_selection import train_test_split\n",
    "\n",
    "X_train, X_test, y_train, y_test = train_test_split(X, y, test_size = 0.3)\n",
    "\n"
   ]
  },
  {
   "cell_type": "code",
   "execution_count": 36,
   "metadata": {},
   "outputs": [
    {
     "name": "stdout",
     "output_type": "stream",
     "text": [
      "acuuracy [0.5666666666666667, 0.6777777777777778, 0.5444444444444444, 0.6777777777777778, 0.6333333333333333, 0.6666666666666666, 0.6555555555555556, 0.6666666666666666, 0.5666666666666667, 0.6222222222222222, 0.5888888888888889, 0.6222222222222222, 0.6111111111111112, 0.6555555555555556, 0.6555555555555556, 0.6777777777777778, 0.6777777777777778, 0.7, 0.6444444444444445, 0.7222222222222222, 0.7, 0.7222222222222222, 0.7111111111111111, 0.7333333333333333, 0.7111111111111111, 0.7444444444444445, 0.7333333333333333, 0.7333333333333333, 0.7222222222222222, 0.7333333333333333, 0.7333333333333333, 0.7333333333333333, 0.7333333333333333, 0.7333333333333333, 0.7333333333333333, 0.7333333333333333, 0.7333333333333333, 0.7333333333333333, 0.7333333333333333, 0.7333333333333333, 0.7333333333333333, 0.7333333333333333, 0.7333333333333333, 0.7333333333333333, 0.7333333333333333, 0.7333333333333333, 0.7333333333333333, 0.7333333333333333, 0.7333333333333333, 0.7333333333333333]\n",
      "\n",
      " value of k [1, 2, 3, 4, 5, 6, 7, 8, 9, 10, 11, 12, 13, 14, 15, 16, 17, 18, 19, 20, 21, 22, 23, 24, 25, 26, 27, 28, 29, 30, 31, 32, 33, 34, 35, 36, 37, 38, 39, 40, 41, 42, 43, 44, 45, 46, 47, 48, 49, 50]\n"
     ]
    }
   ],
   "source": [
    "# lets see how value of k effects the accuracy\n",
    "\n",
    "ac = []\n",
    "k = []\n",
    "for i in range (50):\n",
    "    i+=1\n",
    "    classifier = KNeighborsClassifier(n_neighbors = i)\n",
    "\n",
    "\n",
    "    # training the model using the training sets\n",
    "\n",
    "    classifier.fit(X_train, y_train)\n",
    "\n",
    "    #predicting output\n",
    "    k.append(i)\n",
    "    y_pred = classifier.predict(X_test)\n",
    "    \n",
    "    accurt = metrics.accuracy_score(y_test, y_pred)\n",
    "\n",
    "    ac.append(accurt)\n",
    "    \n",
    "print('acuuracy', ac)\n",
    "\n",
    "print('\\n value of k', k)\n",
    "    "
   ]
  },
  {
   "cell_type": "code",
   "execution_count": 37,
   "metadata": {},
   "outputs": [
    {
     "data": {
      "image/png": "[encoded data removed]",
      "text/plain": [
       "<Figure size 432x288 with 1 Axes>"
      ]
     },
     "metadata": {
      "needs_background": "light"
     },
     "output_type": "display_data"
    }
   ],
   "source": [
    "# plotting accuracy vs k-value\n",
    "\n",
    "import matplotlib.pyplot as plt\n",
    "\n",
    "plt.plot(k, ac)\n",
    "plt.xlabel('value of k')\n",
    "plt.ylabel('accuracy')\n",
    "plt.show()"
   ]
  },
  {
   "cell_type": "code",
   "execution_count": 38,
   "metadata": {},
   "outputs": [
    {
     "name": "stdout",
     "output_type": "stream",
     "text": [
      "accuracy:  0.7222222222222222\n"
     ]
    }
   ],
   "source": [
    "# lets keep k = 20; it may be compromised at processing speed but for the sake of maxium accuracy, lets take k = 20\n",
    "# lets check again with k = 20\n",
    "\n",
    "# lets keep k = 10\n",
    "\n",
    "classifier = KNeighborsClassifier(n_neighbors = 20)\n",
    "\n",
    "\n",
    "# training the model using the training sets\n",
    "\n",
    "classifier.fit(X_train, y_train)\n",
    "\n",
    "#predicting output\n",
    "\n",
    "y_pred = classifier.predict(X_test)\n",
    "\n",
    "print(\"accuracy: \", metrics.accuracy_score(y_test, y_pred))\n",
    "\n"
   ]
  },
  {
   "cell_type": "code",
   "execution_count": 39,
   "metadata": {},
   "outputs": [
    {
     "name": "stdout",
     "output_type": "stream",
     "text": [
      "[[ 1.86546628e+00 -2.25814124e-01 -6.49771052e-01  2.85933253e+00]\n",
      " [ 9.14252328e-02 -4.90955428e-01  1.79711453e+00 -3.41498161e-02]\n",
      " [-3.66090617e-01 -2.23784334e-02 -2.41956788e-01 -1.68756830e+00]\n",
      " [-3.28742385e-01  4.43874451e+00 -6.49771052e-01 -1.52222645e+00]\n",
      " [ 2.00717144e-02  1.19630741e+00 -2.41956788e-01 -8.60859057e-01]\n",
      " [-1.13172939e+00 -5.03387891e-02 -1.46539958e+00  1.61926866e+00]\n",
      " [ 2.26695979e+00 -2.23784334e-02 -1.05758532e+00 -1.99491664e-01]\n",
      " [-3.84764734e-01 -4.89991277e-01  1.79711453e+00  7.92559424e-01]\n",
      " [-2.44708861e-01 -2.60523531e-01 -2.41956788e-01  3.79204804e-01]\n",
      " [ 5.20929908e-01 -4.94812028e-01  1.79711453e+00  7.92559424e-01]\n",
      " [-1.19708879e+00 -4.53353570e-01  2.73177019e-03 -3.64833512e-01]\n",
      " [ 1.20253515e+00  6.84237094e+00 -1.05758532e+00 -1.27421368e+00]\n",
      " [-5.43494722e-01 -4.74564874e-01  1.79711453e+00  3.79204804e-01]\n",
      " [ 1.47447582e-01 -5.27593135e-01 -2.41956788e-01 -6.95517208e-01]\n",
      " [ 2.00717144e-02 -2.23784334e-02 -2.41956788e-01 -7.78188132e-01]\n",
      " [-2.26034745e-01 -5.29521435e-01 -1.05758532e+00  3.79204804e-01]\n",
      " [ 5.86289316e-01 -2.59559381e-01  5.73671740e-01 -4.47504436e-01]\n",
      " [-3.10068268e-01 -2.23784334e-02 -2.41956788e-01  7.09888500e-01]\n",
      " [-1.13172939e+00  1.74298057e+00  2.73177019e-03 -1.27421368e+00]\n",
      " [ 2.00717144e-02 -1.53502860e-01  1.79711453e+00 -6.12846284e-01]\n",
      " [-5.79676978e-02 -4.59138471e-01 -2.41956788e-01 -1.68756830e+00]\n",
      " [ 2.00717144e-02 -2.23784334e-02  5.73671740e-01  1.20591404e+00]\n",
      " [-2.20455737e+00 -2.23784334e-02  2.73177019e-03  7.92559424e-01]\n",
      " [ 6.32974606e-01 -1.18793453e-01 -6.49771052e-01 -8.60859057e-01]\n",
      " [ 2.00717144e-02 -2.23784334e-02  2.73177019e-03 -1.27421368e+00]\n",
      " [-2.26034745e-01 -2.38348077e-01  9.81486004e-01 -1.43955552e+00]\n",
      " [ 7.39170935e-03 -3.42476298e-01 -1.05758532e+00 -8.60859057e-01]\n",
      " [-6.74213537e-01 -5.28557285e-01 -1.05758532e+00 -1.99491664e-01]\n",
      " [ 2.00717144e-02  1.09710143e-01  1.65857476e-01 -1.19154275e+00]\n",
      " [ 1.19436407e-01 -4.77457325e-01 -1.05758532e+00  9.57901272e-01]\n",
      " [-3.38079443e-01 -2.23784334e-02 -6.49771052e-01  1.20591404e+00]\n",
      " [-1.22509997e+00 -2.23784334e-02 -1.05758532e+00 -1.10887183e+00]\n",
      " [-6.74213537e-01 -5.21808234e-01  1.65857476e-01 -1.52222645e+00]\n",
      " [-3.28742385e-01  1.22523192e+00 -2.41956788e-01 -1.27421368e+00]\n",
      " [ 2.00717144e-02  1.92627060e-01  2.73177019e-03  1.61926866e+00]\n",
      " [ 9.41097526e-01 -2.96197088e-01 -2.41956788e-01 -8.60859057e-01]\n",
      " [ 1.38110524e-01 -5.33378036e-01 -1.05758532e+00  3.79204804e-01]\n",
      " [ 2.31481105e-01 -5.32413886e-01  9.81486004e-01 -3.41498161e-02]\n",
      " [-1.04652989e-01  4.59696663e-01  5.73671740e-01 -3.41498161e-02]\n",
      " [-3.00731210e-01 -5.02525230e-01  1.65857476e-01  4.85211080e-02]\n",
      " [-1.60675338e-01 -5.54589340e-01  1.79711453e+00  1.31192032e-01]\n",
      " [-4.78135315e-01 -4.76493175e-01 -1.46539958e+00 -8.60859057e-01]\n",
      " [-4.31450024e-01 -5.21808234e-01 -6.49771052e-01 -1.52222645e+00]\n",
      " [ 1.24922045e+00 -3.94540408e-01  5.73671740e-01 -8.60859057e-01]\n",
      " [-1.04769586e+00 -3.67544203e-01  9.81486004e-01  3.79204804e-01]\n",
      " [-3.28742385e-01 -5.25664834e-01  9.81486004e-01  2.44597791e+00]\n",
      " [-5.62168839e-01 -4.37927167e-01  1.65857476e-01  2.09916903e-02]\n",
      " [ 5.39604025e-01  1.77200657e-01 -1.46539958e+00 -9.43529981e-01]\n",
      " [-1.12824070e-02 -4.66851673e-01  1.65857476e-01 -8.60859057e-01]\n",
      " [ 1.20253515e+00 -2.58595231e-01  2.73177019e-03  2.44597791e+00]\n",
      " [-6.08854130e-01 -5.10238431e-01 -1.05758532e+00 -3.41498161e-02]\n",
      " [ 9.69108700e-01 -5.00596929e-01 -2.41956788e-01 -1.52222645e+00]\n",
      " [ 2.00717144e-02  1.04397168e+00  2.73177019e-03  3.79204804e-01]\n",
      " [ 2.68829338e-01 -4.53353570e-01 -2.41956788e-01  3.79204804e-01]\n",
      " [-8.32943525e-01 -5.26628985e-01  1.79711453e+00  3.79204804e-01]\n",
      " [ 1.35192809e+00 -4.78421475e-01  9.81486004e-01  1.37125589e+00]\n",
      " [-9.91673514e-01 -5.24700684e-01  2.73177019e-03  1.31192032e-01]\n",
      " [-1.25311114e+00 -2.23784334e-02 -6.49771052e-01 -3.41498161e-02]\n",
      " [-4.03438850e-01 -4.61066772e-01  9.81486004e-01  9.57901272e-01]\n",
      " [-3.10068268e-01  1.59642974e+00 -2.41956788e-01 -3.41498161e-02]\n",
      " [-8.88965874e-01 -2.71991844e-02 -1.05758532e+00  6.27217576e-01]\n",
      " [ 2.00717144e-02  6.99567083e+00  2.73177019e-03 -4.47504436e-01]\n",
      " [-4.50124141e-01 -3.42476298e-01 -1.87321384e+00 -1.52222645e+00]\n",
      " [ 3.99548152e-01 -5.17951633e-01  1.79711453e+00  3.79204804e-01]\n",
      " [-1.13990047e-01 -5.19879933e-01  5.73671740e-01  7.92559424e-01]\n",
      " [ 6.79659897e-01 -3.99361159e-01 -6.49771052e-01 -6.95517208e-01]\n",
      " [-8.59788723e-02 -2.27742425e-01 -1.05758532e+00 -8.60859057e-01]\n",
      " [-5.71505897e-01 -5.16023333e-01 -6.49771052e-01  1.78461051e+00]\n",
      " [ 2.53773447e+00 -5.05417680e-01 -2.41956788e-01  7.92559424e-01]\n",
      " [ 2.05220745e+00 -3.67544203e-01  9.81486004e-01  1.45392682e+00]\n",
      " [ 5.95626374e-01  3.24030582e+00  1.65857476e-01 -6.95517208e-01]\n",
      " [ 1.74408453e+00 -2.23784334e-02  1.65857476e-01  2.13862956e-01]\n",
      " [-3.47416501e-01 -4.88062977e-01  2.73177019e-03  1.20591404e+00]\n",
      " [-1.26244820e+00 -2.23784334e-02 -1.46539958e+00 -1.27421368e+00]\n",
      " [ 7.39170935e-03 -4.39855467e-01  2.73177019e-03  2.19796513e+00]\n",
      " [-3.84764734e-01  5.59004133e-01  1.65857476e-01  1.04057220e+00]\n",
      " [-2.00007580e+00 -2.18100923e-01  9.81486004e-01  1.78461051e+00]\n",
      " [ 3.43525803e-01 -2.89448037e-01 -1.05758532e+00  3.79204804e-01]\n",
      " [ 3.90211094e-01 -1.22650054e-01 -6.49771052e-01 -1.68756830e+00]\n",
      " [-2.26034745e-01 -4.62995072e-01 -1.05758532e+00  7.92559424e-01]\n",
      " [-2.63382977e-01 -5.19879933e-01 -1.05758532e+00 -1.27421368e+00]\n",
      " [-8.88965874e-01 -2.23784334e-02 -1.95477670e+00 -1.27421368e+00]\n",
      " [ 3.80874036e-01 -4.30213965e-01 -6.49771052e-01 -8.60859057e-01]\n",
      " [-3.94101792e-01 -4.43712068e-01 -1.05758532e+00 -1.99491664e-01]\n",
      " [ 4.08885210e-01 -2.23784334e-02  5.73671740e-01 -6.12846284e-01]\n",
      " [-3.10068268e-01 -4.90955428e-01  2.73177019e-03 -3.41498161e-02]\n",
      " [ 3.15514629e-01 -3.97432859e-01  1.79711453e+00  2.13862956e-01]\n",
      " [ 1.66121698e-01  2.21551566e-01  1.65857476e-01 -4.47504436e-01]\n",
      " [ 4.47399420e-02 -4.05146060e-01 -6.49771052e-01 -8.60859057e-01]\n",
      " [ 5.40770002e-02 -3.44404598e-01 -6.49771052e-01  4.85211080e-02]\n",
      " [ 1.66121698e-01 -2.23784334e-02 -1.46539958e+00 -8.60859057e-01]\n",
      " [ 2.00717144e-02 -4.32142266e-01  2.20492880e+00  3.79204804e-01]\n",
      " [ 9.14252328e-02 -4.21536614e-01 -1.71008814e+00 -1.19154275e+00]\n",
      " [ 4.36896385e-01 -5.29521435e-01  9.81486004e-01 -6.12846284e-01]\n",
      " [-1.45852642e+00  7.84615279e-01  1.65857476e-01  7.09888500e-01]\n",
      " [-1.96272756e+00 -2.23784334e-02  1.65857476e-01  7.92559424e-01]\n",
      " [-1.01034763e+00 -4.63959222e-01 -6.49771052e-01 -8.60859057e-01]\n",
      " [ 1.33325397e+00  1.84807294e+00 -6.49771052e-01 -8.60859057e-01]\n",
      " [ 9.14252328e-02  4.00883502e-01 -2.41956788e-01  6.27217576e-01]\n",
      " [ 1.50132102e+00 -2.23784334e-02  2.73177019e-03 -1.27421368e+00]\n",
      " [-1.12239233e+00  2.11032179e+00 -2.41956788e-01 -4.47504436e-01]\n",
      " [-4.22112966e-01  1.72532140e-03  1.65857476e-01 -3.41498161e-02]\n",
      " [-4.78135315e-01 -4.35034716e-01 -1.05758532e+00 -3.41498161e-02]\n",
      " [ 1.15584986e+00 -2.23784334e-02 -2.41956788e-01 -1.27421368e+00]\n",
      " [-1.13990047e-01  1.15966970e+00  1.79711453e+00 -6.12846284e-01]\n",
      " [-3.56753559e-01 -5.11202582e-01 -2.41956788e-01  7.92559424e-01]\n",
      " [ 1.19436407e-01 -3.80078155e-01 -1.05758532e+00  9.57901272e-01]\n",
      " [-4.68798257e-01  9.08990654e-01 -6.49771052e-01 -8.60859057e-01]\n",
      " [-7.02224711e-01 -3.79114005e-01  2.73177019e-03  2.03262329e+00]\n",
      " [-6.74213537e-01 -4.72636574e-01 -1.46539958e+00 -8.60859057e-01]\n",
      " [ 2.00717144e-02 -4.09966811e-01  5.73671740e-01 -4.47504436e-01]\n",
      " [-1.06636998e+00 -2.23784334e-02  1.96024024e+00 -8.60859057e-01]\n",
      " [ 2.00717144e-02 -2.23784334e-02 -1.46539958e+00  1.04057220e+00]\n",
      " [ 1.05314222e+00 -4.40819617e-01  1.65857476e-01 -1.60489737e+00]\n",
      " [-3.75427675e-01 -3.12587642e-01 -2.41956788e-01  1.31192032e-01]\n",
      " [ 2.03469931e-01 -3.87791357e-01  2.73177019e-03  1.20591404e+00]\n",
      " [-5.79676978e-02 -4.96740329e-01 -2.41956788e-01 -1.68756830e+00]\n",
      " [ 7.17008130e-01  3.25679786e-01 -1.05758532e+00  9.57901272e-01]\n",
      " [ 4.48917963e+00  1.40263555e+00  1.79711453e+00 -1.27421368e+00]\n",
      " [-1.29979643e+00 -2.23784334e-02 -2.41956788e-01 -1.99491664e-01]\n",
      " [-7.48910002e-01 -4.72636574e-01 -1.05758532e+00 -2.82162588e-01]\n",
      " [ 2.00717144e-02  5.72502236e-01 -1.46539958e+00 -4.47504436e-01]\n",
      " [ 1.19319810e+00 -4.83242226e-01 -6.49771052e-01  2.09916903e-02]\n",
      " [ 3.34188745e-01  2.81328878e-01  5.73671740e-01 -3.41498161e-02]\n",
      " [ 3.54028838e-02 -2.02674520e-01 -1.05758532e+00  3.79204804e-01]\n",
      " [ 2.12806989e-01 -4.65887522e-01  5.73671740e-01  7.92559424e-01]\n",
      " [-3.84764734e-01 -3.94540408e-01  1.79711453e+00 -6.12846284e-01]\n",
      " [ 4.92918734e-01  1.36117709e+00 -1.05758532e+00 -4.47504436e-01]\n",
      " [-6.73047560e-02 -2.32563176e-01 -1.46539958e+00  9.57901272e-01]\n",
      " [ 2.20160038e+00 -4.74564874e-01 -1.05758532e+00  3.79204804e-01]\n",
      " [-6.27528246e-01 -3.60795151e-01 -1.05758532e+00 -3.41498161e-02]\n",
      " [ 1.08115340e+00 -2.86555586e-01  1.79711453e+00 -1.27421368e+00]\n",
      " [ 6.14300490e-01 -4.29249815e-01 -1.46539958e+00  3.79204804e-01]\n",
      " [ 5.58278141e-01  2.40834569e-01  9.81486004e-01  1.78461051e+00]\n",
      " [ 3.34188745e-01 -4.60102621e-01 -6.49771052e-01  3.79204804e-01]\n",
      " [-1.16907762e+00  3.62317494e-01 -6.49771052e-01 -1.27421368e+00]\n",
      " [ 1.77209570e+00 -5.02525230e-01  2.73177019e-03 -4.47504436e-01]\n",
      " [ 1.38110524e-01 -4.21536614e-01  2.73177019e-03 -8.60859057e-01]\n",
      " [ 9.14252328e-02  7.47013421e-01 -1.05758532e+00 -7.78188132e-01]\n",
      " [ 6.32974606e-01 -3.56938551e-01  2.73177019e-03 -3.41498161e-02]\n",
      " [ 4.55570501e-01 -2.23784334e-02  2.73177019e-03 -8.60859057e-01]\n",
      " [-1.03835881e+00 -3.35727246e-01 -6.49771052e-01 -3.41498161e-02]\n",
      " [-5.34157664e-01 -5.38198787e-01  1.65857476e-01  2.44597791e+00]\n",
      " [-1.02902175e+00 -1.71821713e-01  2.61274306e+00 -5.30175360e-01]\n",
      " [ 2.59492280e-01 -3.71400804e-01 -2.41956788e-01  6.27217576e-01]\n",
      " [ 3.06177571e-01 -2.69200883e-01  2.73177019e-03  3.79204804e-01]\n",
      " [-1.25311114e+00 -3.46332898e-01 -1.87321384e+00  1.20591404e+00]\n",
      " [ 2.29497096e+00 -4.85170526e-01  1.79711453e+00  2.03262329e+00]\n",
      " [ 1.66121698e-01 -3.39583847e-01 -2.41956788e-01 -3.41498161e-02]\n",
      " [-1.06636998e+00 -2.23784334e-02  2.73177019e-03  4.85211080e-02]\n",
      " [-9.07639991e-01 -1.97853769e-01  1.65857476e-01 -1.99491664e-01]\n",
      " [-3.56753559e-01 -3.83934756e-01  1.65857476e-01 -6.12846284e-01]\n",
      " [-2.44708861e-01  2.93862830e-01  9.81486004e-01  2.03262329e+00]\n",
      " [-7.11561769e-01 -4.93847878e-01 -2.41956788e-01  7.92559424e-01]\n",
      " [-4.22112966e-01 -2.76914085e-01  1.65857476e-01 -8.60859057e-01]\n",
      " [-6.73047560e-02 -8.79406466e-02 -1.05758532e+00  2.13862956e-01]\n",
      " [ 5.39604025e-01 -3.43440448e-01 -2.41956788e-01 -8.60859057e-01]\n",
      " [-7.11561769e-01 -3.29840856e-02  5.73671740e-01  7.92559424e-01]\n",
      " [-6.27528246e-01 -1.65935323e-02  1.79711453e+00 -3.41498161e-02]\n",
      " [-5.79676978e-02 -3.32834796e-01  2.73177019e-03 -3.41498161e-02]\n",
      " [-8.23606467e-01 -3.59831001e-01 -6.49771052e-01  7.92559424e-01]\n",
      " [-1.42001221e-01 -4.45640368e-01 -1.05758532e+00  2.96533880e-01]\n",
      " [ 1.24922045e+00 -4.59138471e-01 -6.49771052e-01 -2.82162588e-01]\n",
      " [ 2.96840512e-01 -5.16987483e-01  1.65857476e-01  7.92559424e-01]\n",
      " [ 2.60658257e-02 -2.23784334e-02  2.73177019e-03 -5.30175360e-01]\n",
      " [ 1.19319810e+00 -3.79114005e-01 -1.71008814e+00  7.92559424e-01]\n",
      " [ 3.62199920e-01 -3.90683807e-01  1.79711453e+00 -1.99491664e-01]\n",
      " [ 5.49758191e+00 -3.01981990e-01 -2.41956788e-01 -1.27421368e+00]\n",
      " [-6.08854130e-01 -4.75529024e-01  1.65857476e-01  2.85933253e+00]\n",
      " [-1.23327105e-01 -4.68779973e-01  9.81486004e-01  1.20591404e+00]\n",
      " [-5.79676978e-02 -5.26628985e-01  1.79711453e+00  7.92559424e-01]\n",
      " [ 3.80874036e-01 -3.13551792e-01 -1.05758532e+00 -1.16820740e-01]\n",
      " [ 2.00717144e-02 -2.23784334e-02  1.65857476e-01  1.20591404e+00]\n",
      " [ 8.38389886e-01 -5.16987483e-01  9.81486004e-01  7.92559424e-01]\n",
      " [-1.20642585e+00 -5.16987483e-01  9.81486004e-01 -9.43529981e-01]\n",
      " [-7.20898827e-01 -4.72636574e-01  5.73671740e-01 -8.60859057e-01]\n",
      " [ 3.54028838e-02 -2.23784334e-02 -1.46539958e+00  1.20591404e+00]\n",
      " [-3.19405326e-01 -3.23193294e-01 -2.41956788e-01 -6.12846284e-01]\n",
      " [-1.73863817e+00  1.66681271e+00 -2.41956788e-01 -8.60859057e-01]\n",
      " [ 1.77209570e+00 -2.23784334e-02  2.73177019e-03 -3.41498161e-02]\n",
      " [-2.82057094e-01  3.79372803e+00 -2.41956788e-01  1.70193959e+00]\n",
      " [-1.62659347e+00 -2.23784334e-02  1.38930027e+00 -1.02620090e+00]\n",
      " [ 6.34140583e-02  3.53640142e-01 -2.41956788e-01 -9.43529981e-01]\n",
      " [-2.26034745e-01 -4.85170526e-01  1.65857476e-01 -1.52222645e+00]\n",
      " [ 3.35939559e+00 -2.67272583e-01 -6.49771052e-01  9.57901272e-01]\n",
      " [-2.44708861e-01 -3.58866851e-01  5.73671740e-01  9.57901272e-01]\n",
      " [-4.12775908e-01 -2.23784334e-02  1.65857476e-01 -3.41498161e-02]\n",
      " [-8.32943525e-01 -5.30485585e-01  9.81486004e-01  1.53659774e+00]\n",
      " [-6.27528246e-01 -4.69744123e-01  9.81486004e-01  3.79204804e-01]\n",
      " [-3.66090617e-01  9.43852295e-03  1.38930027e+00 -1.27421368e+00]\n",
      " [ 2.00717144e-02  2.76508127e-01 -2.41956788e-01  3.79204804e-01]\n",
      " [ 1.54800631e+00 -5.06381831e-01 -6.49771052e-01 -9.43529981e-01]\n",
      " [ 3.54028838e-02  6.72875346e-02  1.79711453e+00  1.20591404e+00]\n",
      " [-1.79349454e-01  9.68767966e-01  1.79711453e+00  2.96533880e-01]\n",
      " [-6.73047560e-02 -4.78421475e-01 -2.41956788e-01 -4.47504436e-01]\n",
      " [-1.01034763e+00 -2.23784334e-02  9.81486004e-01 -8.60859057e-01]\n",
      " [-1.88686512e-01  2.01487093e+00  1.65857476e-01  7.92559424e-01]\n",
      " [-1.01034763e+00 -5.25664834e-01  2.73177019e-03 -1.99491664e-01]\n",
      " [-3.56753559e-01 -1.80499065e-01  5.73671740e-01  1.37125589e+00]\n",
      " [ 9.97119875e-01 -5.05417680e-01  2.73177019e-03  1.20591404e+00]\n",
      " [ 2.63110505e+00 -2.23784334e-02  1.38930027e+00 -1.27421368e+00]\n",
      " [ 2.00717144e-02 -2.23784334e-02 -6.49771052e-01 -1.35688460e+00]\n",
      " [-7.67584118e-01 -4.84206376e-01 -2.41956788e-01  2.13862956e-01]\n",
      " [-1.78532346e+00 -5.19879933e-01 -1.46539958e+00 -1.16820740e-01]\n",
      " [-5.90180013e-01 -3.34763096e-01 -1.05758532e+00  3.79204804e-01]\n",
      " [ 2.00717144e-02  3.23837752e+00  1.96024024e+00 -3.41498161e-02]\n",
      " [-1.86001992e+00 -4.23464914e-01 -6.49771052e-01 -3.41498161e-02]\n",
      " [-7.95595293e-01 -4.18644163e-01  1.79711453e+00  7.92559424e-01]\n",
      " [ 2.00717144e-02 -2.23784334e-02  3.42837159e+00 -1.27421368e+00]]\n",
      "[[ 2.00717144e-02 -2.23784334e-02  1.79711453e+00 -1.52222645e+00]\n",
      " [ 1.19436407e-01 -3.47297049e-01  5.73671740e-01 -8.60859057e-01]\n",
      " [ 2.03469931e-01  4.80045307e-02  1.65857476e-01  1.31192032e-01]\n",
      " [ 2.00717144e-02 -2.23784334e-02  9.81486004e-01  5.44546652e-01]\n",
      " [ 1.47447582e-01 -5.21808234e-01  1.65857476e-01  1.45392682e+00]\n",
      " [-1.70012396e-01  5.08761759e+00 -2.41956788e-01  2.03262329e+00]\n",
      " [ 4.46233443e-01 -5.23736534e-01  1.79711453e+00  2.96533880e-01]\n",
      " [ 1.67287675e-02  1.37670499e-01  5.73671740e-01 -4.47504436e-01]\n",
      " [ 9.41097526e-01 -4.22500764e-01  5.73671740e-01 -8.60859057e-01]\n",
      " [-1.75731228e+00  1.12013955e+00  5.73671740e-01  2.13862956e-01]\n",
      " [ 6.14300490e-01  1.23309735e-02 -2.41956788e-01  7.92559424e-01]\n",
      " [ 4.18222269e-01 -4.59138471e-01  1.79711453e+00  2.03262329e+00]\n",
      " [ 8.29052828e-01 -2.23784334e-02 -2.41956788e-01  1.61926866e+00]\n",
      " [-2.82057094e-01 -3.20199354e-02 -2.41956788e-01 -4.47504436e-01]\n",
      " [-4.96809432e-01 -4.32142266e-01  1.79711453e+00  6.27217576e-01]\n",
      " [ 2.00717144e-02 -2.23784334e-02 -6.49771052e-01  1.20591404e+00]\n",
      " [ 1.35192809e+00 -5.08310131e-01  9.81486004e-01 -7.78188132e-01]\n",
      " [-3.75427675e-01 -2.23784334e-02  1.65857476e-01 -7.78188132e-01]\n",
      " [ 4.08885210e-01  3.93271789e-02 -1.05758532e+00  6.27217576e-01]\n",
      " [ 3.80874036e-01 -2.23784334e-02  2.73177019e-03 -1.27421368e+00]\n",
      " [ 6.79659897e-01  1.77094093e+00 -6.49771052e-01 -1.27421368e+00]\n",
      " [ 1.12783869e+00 -4.00325309e-01  2.73177019e-03 -6.95517208e-01]\n",
      " [ 4.08885210e-01  2.21551566e-01 -2.41956788e-01  7.92559424e-01]\n",
      " [-8.14269409e-01 -4.58174321e-01 -2.41956788e-01 -1.27421368e+00]\n",
      " [ 1.84795814e-01 -3.92612108e-01 -2.41956788e-01  3.79204804e-01]\n",
      " [ 2.03469931e-01  1.61571275e+00  1.65857476e-01 -3.41498161e-02]\n",
      " [-8.23606467e-01 -5.38198787e-01 -2.41956788e-01 -4.47504436e-01]\n",
      " [-9.26314107e-01 -5.17951633e-01  2.73177019e-03  4.61875728e-01]\n",
      " [-3.10068268e-01 -5.25664834e-01 -2.41956788e-01 -4.47504436e-01]\n",
      " [ 9.69108700e-01  1.24451492e+00 -1.05758532e+00 -3.41498161e-02]\n",
      " [-4.59461199e-01 -5.26628985e-01 -1.05758532e+00 -3.41498161e-02]\n",
      " [-2.44708861e-01 -5.02525230e-01  1.65857476e-01 -1.35688460e+00]\n",
      " [ 3.71536978e-01  1.81158747e-02 -2.41956788e-01 -1.68756830e+00]\n",
      " [-3.75427675e-01 -5.24700684e-01  1.65857476e-01  2.13862956e-01]\n",
      " [-5.34157664e-01 -5.38198787e-01 -1.46539958e+00 -3.41498161e-02]\n",
      " [-3.28742385e-01 -4.86134677e-01  1.65857476e-01 -1.68756830e+00]\n",
      " [-1.32780761e+00 -5.17951633e-01 -1.46539958e+00 -3.41498161e-02]\n",
      " [ 9.22423409e-01 -5.61338392e-01  5.73671740e-01  2.03262329e+00]\n",
      " [ 6.14300490e-01 -4.44676218e-01  2.73177019e-03 -1.99491664e-01]\n",
      " [ 8.10378711e-01 -3.02946140e-01 -2.41956788e-01 -1.19154275e+00]\n",
      " [-1.04769586e+00  2.82293028e-01 -1.05758532e+00  1.61926866e+00]\n",
      " [-1.13990047e-01 -2.23784334e-02 -6.49771052e-01  3.79204804e-01]\n",
      " [-3.92935815e-02  1.10674293e-01  1.65857476e-01  3.79204804e-01]\n",
      " [-1.19708879e+00 -2.74985784e-01 -2.41956788e-01 -3.41498161e-02]\n",
      " [ 1.94132873e-01 -5.06381831e-01  2.73177019e-03  4.85211080e-02]\n",
      " [-5.43494722e-01 -2.23784334e-02 -2.41956788e-01  1.04057220e+00]\n",
      " [ 9.03749293e-01  5.75394687e-01  9.81486004e-01  7.92559424e-01]\n",
      " [ 1.80010688e+00 -2.79806535e-01  1.79711453e+00 -3.41498161e-02]\n",
      " [-3.75427675e-01 -4.13823412e-01 -1.05758532e+00 -1.16820740e-01]\n",
      " [ 8.38389886e-01 -4.45640368e-01  1.79711453e+00  7.92559424e-01]\n",
      " [-6.83550595e-01 -4.92883728e-01  9.81486004e-01  3.79204804e-01]\n",
      " [ 6.23637548e-01  1.43455400e-01  1.65857476e-01 -3.41498161e-02]\n",
      " [ 1.66121698e-01 -5.31449736e-01  1.65857476e-01 -8.60859057e-01]\n",
      " [ 5.40770002e-02 -4.65887522e-01  1.79711453e+00  2.13862956e-01]\n",
      " [ 7.07671072e-01 -4.91919578e-01  1.79711453e+00 -3.41498161e-02]\n",
      " [-7.66418141e-02 -3.60795151e-01 -1.05758532e+00  1.31192032e-01]\n",
      " [ 4.47399420e-02 -2.23784334e-02 -1.46539958e+00  7.09888500e-01]\n",
      " [-4.31450024e-01 -3.78149855e-01  2.73177019e-03  5.44546652e-01]\n",
      " [-3.94101792e-01 -4.55281870e-01  1.79711453e+00 -1.99491664e-01]\n",
      " [ 2.00717144e-02 -2.23784334e-02  2.73177019e-03  2.77666160e+00]\n",
      " [ 6.98334014e-01 -4.19608313e-01  1.65857476e-01 -4.47504436e-01]\n",
      " [-4.78135315e-01  1.27064847e-01  1.79711453e+00 -3.41498161e-02]\n",
      " [-6.46202362e-01  1.64666704e-01  2.73177019e-03  1.61926866e+00]\n",
      " [ 2.00717144e-02 -2.23784334e-02 -1.46539958e+00  7.92559424e-01]\n",
      " [-2.06194651e-02 -4.22500764e-01 -6.49771052e-01  3.79204804e-01]\n",
      " [ 4.08885210e-01  1.97726907e+00 -6.49771052e-01 -3.41498161e-02]\n",
      " [ 9.97119875e-01 -5.22772384e-01  1.79711453e+00 -6.12846284e-01]\n",
      " [-5.43494722e-01 -5.19879933e-01  1.65857476e-01 -4.47504436e-01]\n",
      " [ 3.99548152e-01  3.18930735e-01  2.73177019e-03  2.13862956e-01]\n",
      " [-1.79349454e-01 -5.14095032e-01  1.65857476e-01  4.61875728e-01]\n",
      " [ 8.20881747e-02 -2.23784334e-02  1.65857476e-01  3.79204804e-01]\n",
      " [ 2.00717144e-02 -2.23784334e-02  2.73177019e-03  2.11529421e+00]\n",
      " [-2.35371803e-01 -4.98668629e-01 -2.41956788e-01  7.92559424e-01]\n",
      " [-7.66418141e-02 -4.56246021e-01  2.73177019e-03 -1.99491664e-01]\n",
      " [ 6.42311665e-01  9.81403408e-02  2.73177019e-03 -6.12846284e-01]\n",
      " [-9.44988223e-01 -3.60795151e-01 -6.49771052e-01  1.04057220e+00]\n",
      " [-4.03438850e-01 -4.56246021e-01 -6.49771052e-01 -6.95517208e-01]\n",
      " [ 9.41097526e-01 -4.59138471e-01  5.73671740e-01 -1.16820740e-01]\n",
      " [ 1.28773465e-01 -3.48261199e-01  5.73671740e-01 -1.68756830e+00]\n",
      " [-9.26314107e-01 -4.42747918e-01 -1.46539958e+00  3.79204804e-01]\n",
      " [-1.60675338e-01 -4.57210171e-01 -6.49771052e-01 -1.02620090e+00]\n",
      " [-2.72720036e-01  4.29808007e-01 -6.49771052e-01 -8.60859057e-01]\n",
      " [ 1.18386104e+00 -4.64923372e-01 -2.41956788e-01  1.61926866e+00]\n",
      " [ 5.30266967e-01 -4.33106416e-01 -1.05758532e+00 -3.41498161e-02]\n",
      " [-1.60675338e-01 -4.28285665e-01 -1.05758532e+00  7.92559424e-01]\n",
      " [ 1.46397278e+00 -4.95776178e-01 -1.46539958e+00 -6.12846284e-01]\n",
      " [ 8.20881747e-02  1.17123951e+00  2.73177019e-03 -4.47504436e-01]\n",
      " [-1.04769586e+00 -4.40819617e-01  2.73177019e-03  1.61926866e+00]\n",
      " [ 2.00717144e-02  5.84072038e-01 -2.41956788e-01 -3.41498161e-02]\n",
      " [ 1.02513105e+00 -2.23784334e-02 -2.41956788e-01 -4.47504436e-01]]\n"
     ]
    }
   ],
   "source": [
    "# how can I increase the performance of my KNN model even more?\n",
    "\n",
    "# let's normalize the dataset\n",
    "\n",
    "from sklearn.preprocessing import StandardScaler\n",
    "sc = StandardScaler()\n",
    "X_train = sc.fit_transform(X_train)\n",
    "X_test = sc.transform(X_test)\n",
    "\n",
    "print (X_train)\n",
    "\n",
    "print (X_test)"
   ]
  },
  {
   "cell_type": "code",
   "execution_count": 40,
   "metadata": {},
   "outputs": [
    {
     "name": "stdout",
     "output_type": "stream",
     "text": [
      "acuuracy [0.7111111111111111, 0.7666666666666667, 0.7777777777777778, 0.8, 0.8, 0.8, 0.8, 0.7777777777777778, 0.7777777777777778, 0.7555555555555555, 0.8111111111111111, 0.7666666666666667, 0.7777777777777778, 0.8, 0.8111111111111111, 0.8111111111111111, 0.8111111111111111, 0.7777777777777778, 0.8, 0.7888888888888889, 0.8, 0.7666666666666667, 0.7888888888888889, 0.7666666666666667, 0.7777777777777778, 0.7666666666666667, 0.7888888888888889, 0.7555555555555555, 0.7666666666666667, 0.7444444444444445, 0.7666666666666667, 0.7444444444444445, 0.7666666666666667, 0.7777777777777778, 0.7888888888888889, 0.7888888888888889, 0.7777777777777778, 0.7666666666666667, 0.7777777777777778, 0.7555555555555555, 0.7666666666666667, 0.7444444444444445, 0.7555555555555555, 0.7333333333333333, 0.7444444444444445, 0.7444444444444445, 0.7444444444444445, 0.7555555555555555, 0.7444444444444445, 0.7444444444444445]\n",
      "\n",
      " value of k [1, 2, 3, 4, 5, 6, 7, 8, 9, 10, 11, 12, 13, 14, 15, 16, 17, 18, 19, 20, 21, 22, 23, 24, 25, 26, 27, 28, 29, 30, 31, 32, 33, 34, 35, 36, 37, 38, 39, 40, 41, 42, 43, 44, 45, 46, 47, 48, 49, 50]\n"
     ]
    }
   ],
   "source": [
    "# let's repeat every step once again\n",
    "ac = []\n",
    "k = []\n",
    "for i in range (50):\n",
    "    i+=1\n",
    "    classifier = KNeighborsClassifier(n_neighbors = i)\n",
    "\n",
    "\n",
    "    # training the model using the training sets\n",
    "\n",
    "    classifier.fit(X_train, y_train)\n",
    "\n",
    "    #predicting output\n",
    "    k.append(i)\n",
    "    y_pred = classifier.predict(X_test)\n",
    "    \n",
    "    accurt = metrics.accuracy_score(y_test, y_pred)\n",
    "\n",
    "    ac.append(accurt)\n",
    "    \n",
    "print('acuuracy', ac)\n",
    "\n",
    "print('\\n value of k', k)\n",
    "    \n"
   ]
  },
  {
   "cell_type": "code",
   "execution_count": 41,
   "metadata": {},
   "outputs": [
    {
     "data": {
      "image/png": "[encoded data removed]",
      "text/plain": [
       "<Figure size 432x288 with 1 Axes>"
      ]
     },
     "metadata": {
      "needs_background": "light"
     },
     "output_type": "display_data"
    }
   ],
   "source": [
    "# plotting accuracy vs k-value\n",
    "\n",
    "import matplotlib.pyplot as plt\n",
    "\n",
    "plt.plot(k, ac)\n",
    "plt.xlabel('value of k')\n",
    "plt.ylabel('accuracy')\n",
    "plt.show()"
   ]
  },
  {
   "cell_type": "code",
   "execution_count": 51,
   "metadata": {},
   "outputs": [
    {
     "name": "stdout",
     "output_type": "stream",
     "text": [
      "accuracy:  0.8111111111111111\n"
     ]
    }
   ],
   "source": [
    "#Hmm! seems interesting! at k value around 11,the accuracy is very high. \n",
    "# let see for k = 11\n",
    "\n",
    "classifier = KNeighborsClassifier(n_neighbors = 11)\n",
    "\n",
    "\n",
    "# training the model using the training sets\n",
    "\n",
    "classifier.fit(X_train, y_train)\n",
    "\n",
    "#predicting output\n",
    "\n",
    "y_pred = classifier.predict(X_test)\n",
    "\n",
    "print(\"accuracy: \", metrics.accuracy_score(y_test, y_pred))"
   ]
  },
  {
   "cell_type": "code",
   "execution_count": null,
   "metadata": {},
   "outputs": [],
   "source": []
  }
 ],
 "metadata": {
  "kernelspec": {
   "display_name": "Python 3",
   "language": "python",
   "name": "python3"
  },
  "language_info": {
   "codemirror_mode": {
    "name": "ipython",
    "version": 3
   },
   "file_extension": ".py",
   "mimetype": "text/x-python",
   "name": "python",
   "nbconvert_exporter": "python",
   "pygments_lexer": "ipython3",
   "version": "3.7.5"
  }
 },
 "nbformat": 4,
 "nbformat_minor": 4
}
