{
 "cells": [
  {
   "cell_type": "code",
   "execution_count": 36,
   "metadata": {},
   "outputs": [],
   "source": [
    "#defining the datasets\n",
    "\n",
    "\n",
    "weather=['Sunny','Sunny','Overcast','Rainy','Rainy','Rainy','Overcast','Sunny','Sunny',\n",
    "'Rainy','Sunny','Overcast','Overcast','Rainy']\n",
    "temp=['Hot','Hot','Hot','Mild','Cool','Cool','Cool','Mild','Cool','Mild','Mild','Mild','Hot','Mild']\n",
    "\n",
    "play=['No','No','Yes','Yes','Yes','No','Yes','No','Yes','Yes','Yes','Yes','Yes','No']\n"
   ]
  },
  {
   "cell_type": "code",
   "execution_count": 37,
   "metadata": {},
   "outputs": [
    {
     "name": "stdout",
     "output_type": "stream",
     "text": [
      "[2 2 0 1 1 1 0 2 2 1 2 0 0 1]\n"
     ]
    }
   ],
   "source": [
    "# encoding features\n",
    "from sklearn import preprocessing\n",
    "le = preprocessing.LabelEncoder()\n",
    "\n",
    "#converting the string labels into numbers\n",
    "\n",
    "weather_encoded= le.fit_transform(wheather)\n",
    "print (weather_encoded)"
   ]
  },
  {
   "cell_type": "code",
   "execution_count": 38,
   "metadata": {},
   "outputs": [
    {
     "name": "stdout",
     "output_type": "stream",
     "text": [
      "Temp : [1 1 1 2 0 0 0 2 0 2 2 2 1 2]\n",
      "Play : [0 0 1 1 1 0 1 0 1 1 1 1 1 0]\n"
     ]
    }
   ],
   "source": [
    "# encoding temperature and play columns\n",
    "\n",
    "temp_encoded = le.fit_transform(temp)\n",
    "play_encoded = le.fit_transform(play)\n",
    "print('Temp :', temp_encoded)\n",
    "print('Play :', play_encoded)\n",
    "\n"
   ]
  },
  {
   "cell_type": "code",
   "execution_count": 43,
   "metadata": {},
   "outputs": [
    {
     "name": "stdout",
     "output_type": "stream",
     "text": [
      "[(2, 1), (2, 1), (0, 1), (1, 2), (1, 0), (1, 0), (0, 0), (2, 2), (2, 0), (1, 2), (2, 2), (0, 2), (0, 1), (1, 2)]\n"
     ]
    }
   ],
   "source": [
    "#now combining weather and temp into a single list of tuples\n",
    "\n",
    "features = list(zip(weather_encoded, temp_encoded))\n",
    "\n",
    "print(features)"
   ]
  },
  {
   "cell_type": "code",
   "execution_count": 45,
   "metadata": {},
   "outputs": [
    {
     "name": "stdout",
     "output_type": "stream",
     "text": [
      "Play\n"
     ]
    }
   ],
   "source": [
    "# generating modle\n",
    "\n",
    "from sklearn.naive_bayes import GaussianNB #Naive Bayes Model\n",
    "\n",
    "model = GaussianNB()\n",
    "\n",
    "#training the model using the training sets\n",
    "\n",
    "model.fit(features, play_encoded)\n",
    "\n",
    "#predicted output\n",
    "\n",
    "predicted = model.predict([[0, 2]]) # 0 => overcast, 2 => mild\n",
    "\n",
    "if predicted == 1:\n",
    "    print('Play')\n",
    "else:\n",
    "    print('Don''t Play')\n"
   ]
  },
  {
   "cell_type": "code",
   "execution_count": 52,
   "metadata": {},
   "outputs": [],
   "source": [
    "#tkinter GUI\n",
    "import tkinter as tk\n",
    "\n",
    "root = tk.Tk()\n",
    "\n",
    "canvas1 = tk.Canvas(root, width = 500, height = 350)\n",
    "canvas1.pack()\n",
    "\n",
    "#for temperature\n",
    "label1 = tk.Label(root, text = ' temp (0, 1 or 2):')\n",
    "canvas1.create_window(100, 100, window=label1)\n",
    "\n",
    "entry1 = tk.Entry(root)\n",
    "canvas1.create_window(270, 100, window = entry1)\n",
    "\n",
    "#for weather\n",
    "label2 = tk.Label(root, text = 'weather (0, 1, or 2):    ')\n",
    "canvas1.create_window(120, 120, window=label2)\n",
    "\n",
    "entry2 = tk.Entry(root)\n",
    "canvas1.create_window(270, 120, window=entry2)\n",
    "\n",
    "\n",
    "def values():\n",
    "    global temp\n",
    "    temp = float(entry1.get())\n",
    "    \n",
    "    global weather\n",
    "    weather = float(entry2.get())\n",
    "    \n",
    "    \n",
    "    if model.predict([[temp, weather]]) ==1:\n",
    "        predicted = \"Play\"\n",
    "        \n",
    "    else:\n",
    "        predicted = 'Not play'\n",
    "        \n",
    "    Prediction_result = (' Predicted Result: ', predicted)\n",
    "    label_Prediction = tk.Label(root, text = Prediction_result, bg = 'sky blue')\n",
    "    \n",
    "    canvas1.create_window(270, 280, window = label_Prediction)\n",
    "    \n",
    "    \n",
    "button1 = tk.Button(root, text = '   Predict   ', command = values, bg = 'green', fg = 'white', font = 11)\n",
    "canvas1.create_window(270, 220, window=button1)\n",
    "\n",
    "root.mainloop()\n",
    "    \n",
    "    \n",
    "    "
   ]
  },
  {
   "cell_type": "code",
   "execution_count": null,
   "metadata": {},
   "outputs": [],
   "source": []
  }
 ],
 "metadata": {
  "kernelspec": {
   "display_name": "Python 3",
   "language": "python",
   "name": "python3"
  },
  "language_info": {
   "codemirror_mode": {
    "name": "ipython",
    "version": 3
   },
   "file_extension": ".py",
   "mimetype": "text/x-python",
   "name": "python",
   "nbconvert_exporter": "python",
   "pygments_lexer": "ipython3",
   "version": "3.7.5"
  }
 },
 "nbformat": 4,
 "nbformat_minor": 4
}
